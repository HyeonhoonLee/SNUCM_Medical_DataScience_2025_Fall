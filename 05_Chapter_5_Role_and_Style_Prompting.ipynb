{
  "cells": [
    {
      "cell_type": "markdown",
      "metadata": {
        "id": "view-in-github",
        "colab_type": "text"
      },
      "source": [
        "<a href=\"https://colab.research.google.com/github/HyeonhoonLee/SNUCM_Medical_DataScience_2025_Fall/blob/main/05_Chapter_5_Role_and_Style_Prompting.ipynb\" target=\"_parent\"><img src=\"https://colab.research.google.com/assets/colab-badge.svg\" alt=\"Open In Colab\"/></a>"
      ]
    },
    {
      "cell_type": "markdown",
      "metadata": {
        "id": "dXGMud9FR3V7"
      },
      "source": [
        "# **Chapter 5. Role and Style Prompting**"
      ]
    },
    {
      "cell_type": "markdown",
      "metadata": {
        "id": "wO8g6rEHR3V7"
      },
      "source": [
        "This chapter will explore two effective techniques for **prompt design**: <font color=\"red\">Role prompting</font> and <font color=\"red\"> Style prompting</font>, both of which are particularly suitable for our Solar."
      ]
    },
    {
      "cell_type": "markdown",
      "metadata": {
        "id": "vTTS59OwR3V8"
      },
      "source": [
        "## **Table of Contents**\n",
        "- Use `Ctrl + F` (Windows) or `Cmd + F` (Mac) to locate specific sections by title."
      ]
    },
    {
      "cell_type": "markdown",
      "metadata": {
        "id": "jArfJNaAR3V8"
      },
      "source": [
        "- **5.1 Assigning Roles to the Model**    \n",
        "\n",
        "    - 5.1.1 Role prompting  \n",
        "    \n",
        "        - (1) Speaker-Specific Prompting  \n",
        "\n",
        "        - (2) Audience-Specific Prompting  \n",
        "  \n",
        "  \n",
        "    - 5.1.2 Style Prompting  \n",
        "\n",
        "    - 5.1.3 Examples  \n",
        "  \n",
        "  \n",
        "- **5.2 Maintaining Consistency in Response**   \n",
        "\n",
        "    - 5.2.1 Define Clear Guidelines for Expected Response Formats  \n",
        "\n",
        "        - (1) Examples   \n",
        "\n",
        "            \n",
        "  \n",
        "  \n",
        "    - 5.2.2 Use Consistent Terminology throughout Prompts  \n",
        "\n",
        "    - 5.2.3 Practice  \n",
        "\n"
      ]
    },
    {
      "cell_type": "markdown",
      "metadata": {
        "id": "NyE0WX5WR3V8"
      },
      "source": [
        "**Set up**"
      ]
    },
    {
      "cell_type": "code",
      "execution_count": null,
      "metadata": {
        "id": "6mXRc823R3V8"
      },
      "outputs": [],
      "source": [
        "from openai import OpenAI\n",
        "\n",
        "# Retrieve the UPSTAGE_API_KEY variable from the IPython store\n",
        "%store -r UPSTAGE_API_KEY\n",
        "\n",
        "try:\n",
        "    if UPSTAGE_API_KEY:\n",
        "        print(\"Success!\")\n",
        "except NameError as ne:\n",
        "    print(f\"Since, {ne}\")\n",
        "    print(\"Please, insert your API key.\")\n",
        "    UPSTAGE_API_KEY = input(\"UPSTAGE_API_KEY =\")\n",
        "\n",
        "# Set your API key:\n",
        "# UPSTAGE_API_KEY = \" \" ←- Insert your API key here.\n",
        "\n",
        "client = OpenAI(\n",
        "    api_key= UPSTAGE_API_KEY,\n",
        "    base_url=\"https://api.upstage.ai/v1/solar\"\n",
        ")\n",
        "\n",
        "config_model = {\n",
        "    \"model\": \"solar-pro2\",\n",
        "    \"max_tokens\": 2000,\n",
        "    \"temperature\": 0.7,\n",
        "    \"top_p\": 0.9,\n",
        "}\n",
        "\n",
        "def get_completion(messages, system_prompt=\"\", config=config_model):\n",
        "    try:\n",
        "        if system_prompt:\n",
        "            messages = [{\"role\": \"system\", \"content\": system_prompt}] + messages\n",
        "\n",
        "        message = client.chat.completions.create(messages=messages, **config)\n",
        "        return message.choices[0].message.content\n",
        "\n",
        "    except Exception as e:\n",
        "        print(f\"Error during API call: {e}\")\n",
        "        return None"
      ]
    },
    {
      "cell_type": "markdown",
      "metadata": {
        "id": "WEtMxOFNR3V9"
      },
      "source": [
        "---"
      ]
    },
    {
      "cell_type": "markdown",
      "metadata": {
        "id": "lke2C87GR3V9"
      },
      "source": [
        "<a id=\"sec1\"></a>\n",
        "## **5.1 Assigning Roles to the Model**"
      ]
    },
    {
      "cell_type": "markdown",
      "metadata": {
        "id": "Z-fVt--tR3V9"
      },
      "source": [
        "### **5.1.1 Role Prompting**"
      ]
    },
    {
      "cell_type": "markdown",
      "metadata": {
        "id": "rUKWA3edR3V9"
      },
      "source": [
        "Also referred to as **persona prompting**, this technique assigns a specific role to the large language model within the prompt. This approach can lead to more desirable outputs for open-ended tasks and, in some instances, enhance accuracy on benchmarks.\n",
        "\n",
        "We will overview two types of role prompting:\n",
        "\n",
        "(1) `Speaker-Specific Prompt`: A prompt that assigns the role to the LLM.  \n",
        "\n",
        "(2) `Audience-Specific Prompt:` A prompt that specifies the audience of the conversation (e.g., whom you are talking to).  "
      ]
    },
    {
      "cell_type": "markdown",
      "metadata": {
        "id": "1H7ps7m8R3V9"
      },
      "source": [
        "#### **(1) Speaker-Specific Prompt**"
      ]
    },
    {
      "cell_type": "code",
      "execution_count": null,
      "metadata": {
        "colab": {
          "base_uri": "https://localhost:8080/"
        },
        "id": "qZTQUtxER3V-",
        "outputId": "0727c8ac-348f-4474-c2e8-c737f3572941"
      },
      "outputs": [
        {
          "output_type": "stream",
          "name": "stdout",
          "text": [
            "=== Emergency Physician Explaining to Patient ===\n",
            "\n",
            "**Treatment Plan for Displaced Bimalleolar Fracture with Possible Ligament Injury**  \n",
            "\n",
            "### **1. Primary Survey (ABCDE Approach)**  \n",
            "- **Airway:** Ensure patent airway (no signs of trauma to head/neck).  \n",
            "- **Breathing:** Assess for respiratory distress or chest trauma (unlikely primary concern here).  \n",
            "- **Circulation:**  \n",
            "  - Check peripheral pulses (dorsalis pedis/posterior tibial) in the injured ankle.  \n",
            "  - Assess for signs of compartment syndrome (pain out of proportion, pallor, paresthesia, pulselessness, poikilothermia).  \n",
            "  - Control any external bleeding.  \n",
            "- **Disability:** Assess neurovascular status (sensation, motor function in toes).  \n",
            "- **Exposure:** Fully expose the ankle to inspect for open wounds, swelling, or deformity.  \n",
            "\n",
            "### **2. Secondary Survey & Immediate Stabilization**  \n",
            "- **Immobilization:**  \n",
            "  - Apply a well-padded posterior splint (e.g., short-leg splint) with the ankle in neutral position to reduce pain and prevent further injury.  \n",
            "  - Avoid excessive manipulation until imaging is complete (already done).  \n",
            "- **Pain Management:**  \n",
            "  - Administer IV analgesics (e.g., morphine 2–4 mg IV or fentanyl 50–100 mcg IV) titrated to pain control.  \n",
            "  - Consider adjunctive oral NSAIDs (e.g., ibuprofen) if no contraindications.  \n",
            "- **Elevation:** Position the leg at heart level to reduce swelling.  \n",
            "\n",
            "### **3. Definitive Imaging & Assessment**  \n",
            "- **X-rays:** Already performed (AP/lateral/oblique ankle views showing displaced bimalleolar fracture).  \n",
            "- **CT Scan:** Consider if posterior malleolus or syndesmotic injury is suspected (not always required but may help surgical planning).  \n",
            "- **Neurovascular Recheck:** Document baseline sensation (e.g., light touch to web spaces) and motor function (toe flexion/extension).  \n",
            "\n",
            "### **4. Orthopedic Consultation**  \n",
            "- **Urgent referral** to orthopedic surgery is mandatory for:  \n",
            "  - Open reduction and internal fixation (ORIF) of the displaced bimalleolar fracture.  \n",
            "  - Assessment of deltoid ligament injury (may require syndesmotic screw fixation if unstable).  \n",
            "- **Timing:** Ideally within 24 hours to minimize complications (e.g., malunion, chronic instability).  \n",
            "\n",
            "### **5. Preoperative Preparation**  \n",
            "- **Antibiotics:** If open fracture or surgical intervention is planned, administer prophylactic antibiotics (e.g., cefazolin 2 g IV).  \n",
            "- **Tetanus Prophylaxis:** Update if patient’s status is unknown or incomplete.  \n",
            "- **Laboratory Studies:**  \n",
            "  - CBC, basic metabolic panel (if surgery is delayed or comorbidities suspected).  \n",
            "  - Coagulation studies if bleeding risk or anticoagulant use is a concern.  \n",
            "\n",
            "### **6. Monitoring for Complications**  \n",
            "- **Compartment Syndrome:** Monitor for worsening pain, tenseness, or neurovascular changes.  \n",
            "- **Deep Vein Thrombosis (DVT) Prophylaxis:**  \n",
            "  - Consider mechanical prophylaxis (e.g., sequential compression devices) if surgery is delayed.  \n",
            "  - Pharmacologic prophylaxis (e.g., enoxaparin) post-surgery (balanced with bleeding risk).  \n",
            "\n",
            "### **7. Discharge or Admission**  \n",
            "- **Admit** for surgical management (ORIF) unless resources allow same-day surgery.  \n",
            "- **If admitted:**  \n",
            "  - Continue pain management and elevation.  \n",
            "  - Repeat neurovascular checks every 4–6 hours.  \n",
            "- **If discharged for outpatient surgery:**  \n",
            "  - Ensure reliable follow-up within 24–48 hours.  \n",
            "  - Provide crutches and non-weight-bearing instructions.  \n",
            "\n",
            "### **8. Long-Term Considerations**  \n",
            "- Postoperative rehabilitation (physical therapy for range of motion and strength).  \n",
            "- Monitor for post-traumatic arthritis or chronic ankle instability.  \n",
            "\n",
            "**Key Principle:** Displaced bimalleolar fractures are unstable and require surgical fixation to restore joint congruity and prevent long-term morbidity.  \n",
            "\n",
            "Would you like additional details on any step? \n",
            "\n",
            "\n"
          ]
        }
      ],
      "source": [
        "# ---------- Example 1 : Emergency Physician ----------\n",
        "message = [\n",
        "    {\n",
        "        \"role\": \"user\",\n",
        "        \"content\": \"\"\"You are an emergency physician.\n",
        "Please describe the treatment plan, step by step.\n",
        "\n",
        "case:\n",
        "A 29-year-old male patient was brought to the emergency department after a motorcycle accident.\n",
        "He has severe pain and visible deformity around the right ankle.\n",
        "X-ray shows a displaced bimalleolar fracture with possible ligament injury.\n",
        "The patient is alert and stable, but unable to bear weight.\n",
        "\"\"\"\n",
        "    }\n",
        "]\n",
        "\n",
        "response = get_completion(messages=message)\n",
        "print(\"=== Emergency Physician Explaining to Patient ===\\n\")\n",
        "print(response, \"\\n\\n\")"
      ]
    },
    {
      "cell_type": "code",
      "execution_count": null,
      "metadata": {
        "colab": {
          "base_uri": "https://localhost:8080/"
        },
        "id": "b-XtTDvNR3V-",
        "outputId": "47e3079b-752c-4bf6-d52b-9233b1e30d85"
      },
      "outputs": [
        {
          "output_type": "stream",
          "name": "stdout",
          "text": [
            "=== Orthopedic Surgeon Explaining to Patient ===\n",
            "\n",
            "### **Treatment Plan for Displaced Bimalleolar Fracture with Possible Ligament Injury**  \n",
            "\n",
            "#### **1. Initial Assessment & Stabilization**  \n",
            "- **Primary Survey (ATLS Protocol):** Confirm airway, breathing, circulation (ABCs), and neurological status.  \n",
            "- **Secondary Survey:**  \n",
            "  - Assess for other injuries (e.g., head, spine, tibia/fibula shaft fractures, compartment syndrome).  \n",
            "  - Check distal neurovascular status (dorsalis pedis/pulse, capillary refill, sensation, motor function).  \n",
            "- **Pain Management:**  \n",
            "  - Administer IV analgesics (e.g., morphine or fentanyl) as needed.  \n",
            "  - Splint the ankle in a neutral position with a posterior backslab (below-knee cast) to reduce pain and prevent further deformity.  \n",
            "\n",
            "#### **2. Imaging & Diagnosis**  \n",
            "- **X-rays (Ankle Series):**  \n",
            "  - Confirm **displaced bimalleolar fracture** (involving both medial and lateral malleoli).  \n",
            "  - Assess for posterior malleolus or fibular shaft involvement.  \n",
            "- **CT Scan (if needed):**  \n",
            "  - Evaluate for occult posterior malleolus fracture or articular surface disruption.  \n",
            "- **MRI (if ligament injury is suspected but unclear):**  \n",
            "  - Assess for deltoid ligament or syndesmotic injury (if unstable).  \n",
            "\n",
            "#### **3. Definitive Treatment (Surgical)**  \n",
            "- **Timing:**  \n",
            "  - **Acute surgical fixation (within 1–2 weeks)** is ideal to restore anatomy and joint congruity.  \n",
            "  - Delayed surgery may increase risk of complications (e.g., soft tissue swelling, infection).  \n",
            "- **Surgical Approach:**  \n",
            "  - **Open Reduction & Internal Fixation (ORIF):**  \n",
            "    - **Lateral Malleolus:** Plate fixation (e.g., one-third tubular plate or distal fibular plate).  \n",
            "    - **Medial Malleolus:**  \n",
            "      - Small fragment screw(s) or tension band wiring (if avulsion fracture).  \n",
            "      - Buttress plate if comminuted.  \n",
            "    - **Syndesmotic Assessment:**  \n",
            "      - If unstable (e.g., positive Cotton test, increased medial clear space), perform **syndesmotic fixation** (1–2 screws or suture button device).  \n",
            "\n",
            "#### **4. Postoperative Care**  \n",
            "- **Immediate Post-op:**  \n",
            "  - Well-padded posterior splint with elevation to reduce swelling.  \n",
            "  - Continue analgesia (IV → oral as tolerated).  \n",
            "- **Weight-Bearing Status:**  \n",
            "  - **Non-weight-bearing** for 6–8 weeks (until fracture healing is confirmed on X-ray).  \n",
            "- **Mobility:**  \n",
            "  - Begin **range-of-motion exercises** for toes and knees immediately.  \n",
            "  - Ankle motion (plantarflexion/dorsiflexion) allowed in a controlled manner once swelling subsides (∼1–2 weeks post-op).  \n",
            "- **Follow-Up Imaging:**  \n",
            "  - X-rays at **2, 6, 12 weeks** to monitor healing.  \n",
            "- **Physical Therapy:**  \n",
            "  - Start formal PT at **4–6 weeks** post-op to regain strength, proprioception, and gait training.  \n",
            "  - Gradual weight-bearing progression (partial → full) based on healing.  \n",
            "\n",
            "#### **5. Potential Complications & Monitoring**  \n",
            "- **Acute:**  \n",
            "  - Compartment syndrome (monitor for pain, pallor, paresthesias, pulselessness, poikilothermia).  \n",
            "  - Wound healing issues (smoking cessation, glucose control if diabetic).  \n",
            "- **Long-Term:**  \n",
            "  - Post-traumatic arthritis (if joint incongruity persists).  \n",
            "  - Chronic instability (if ligaments were injured).  \n",
            "  - Hardware irritation (may require removal after healing).  \n",
            "\n",
            "#### **6. Discharge Planning**  \n",
            "- **Medications:**  \n",
            "  - Oral analgesics (e.g., acetaminophen, NSAIDs if no contraindications).  \n",
            "  - Prophylactic antibiotics (if high infection risk, e.g., open fracture).  \n",
            "- **Orthopedic Follow-Up:**  \n",
            "  - Schedule outpatient appointment in **7–10 days** for wound check and splint removal (if swelling resolved).  \n",
            "- **Patient Education:**  \n",
            "  - Importance of non-weight-bearing, elevation, and ice therapy.  \n",
            "  - Signs of complications (increased pain, redness, fever, numbness).  \n",
            "\n",
            "### **Expected Recovery Timeline**  \n",
            "- **6–8 weeks:** Bone healing (partial weight-bearing possible).  \n",
            "- **3–6 months:** Full recovery with PT (return to sports/heavy activity may take up to 6–12 months).  \n",
            "\n",
            "Would you like additional details on any specific aspect of the treatment? \n",
            "\n",
            "\n"
          ]
        }
      ],
      "source": [
        "# ---------- Example 2 : Orthopedic Surgen ----------\n",
        "message = [\n",
        "    {\n",
        "        \"role\": \"user\",\n",
        "        \"content\": \"\"\"You are an orthopedic surgeon.\n",
        "Please describe the treatment plan, step by step.\n",
        "\n",
        "case:\n",
        "A 29-year-old male patient was brought to the emergency department after a motorcycle accident.\n",
        "He has severe pain and visible deformity around the right ankle.\n",
        "X-ray shows a displaced bimalleolar fracture with possible ligament injury.\n",
        "The patient is alert and stable, but unable to bear weight.\n",
        "\"\"\"\n",
        "    }\n",
        "]\n",
        "\n",
        "response = get_completion(messages=message)\n",
        "print(\"=== Orthopedic Surgeon Explaining to Patient ===\\n\")\n",
        "print(response, \"\\n\\n\")"
      ]
    },
    {
      "cell_type": "markdown",
      "metadata": {
        "id": "DGaCozI9R3V-"
      },
      "source": [
        "#### **(2) Audience-Specific Prompt**"
      ]
    },
    {
      "cell_type": "markdown",
      "metadata": {
        "id": "dH5NCijDR3V-"
      },
      "source": [
        "Please compare how a speaker-specific prompt and its results differ."
      ]
    },
    {
      "cell_type": "code",
      "execution_count": null,
      "metadata": {
        "colab": {
          "base_uri": "https://localhost:8080/"
        },
        "id": "h6MS8YfnR3V-",
        "outputId": "596fb7a9-6f75-4f07-9ba0-b8e5f982d99f"
      },
      "outputs": [
        {
          "output_type": "stream",
          "name": "stdout",
          "text": [
            "Okay, let's break down how we'd help this patient in a way that's easy for an elementary student to understand. I'll use simple steps and analogies:\n",
            "\n",
            "1. **First, we check the \"ouchie\":**  \n",
            "   The doctor will gently look at and touch the ankle to see how hurt it is. They might compare it to the other ankle to notice differences.\n",
            "\n",
            "2. **Take special pictures (X-rays):**  \n",
            "   Just like how you see bones inside your body in cartoons, we take X-ray pictures to see the broken bones clearly. The pictures show the bones are broken in two places (bimalleolar) and aren't lined up right (displaced).\n",
            "\n",
            "3. **Make it stop hurting:**  \n",
            "   - Give medicine for pain (like a stronger version of what you get when you have a toothache)  \n",
            "   - Put the leg up with ice packs (like how you treat a sprained ankle, but more carefully)\n",
            "\n",
            "4. **Fix the broken bones:**  \n",
            "   Since the bones are out of place, a surgeon will:  \n",
            "   - Make a small cut to see the bones  \n",
            "   - Put the bone pieces back where they belong (like fitting puzzle pieces)  \n",
            "   - Hold them together with metal plates/screws (like using tiny screws to fix a broken toy)\n",
            "\n",
            "5. **Protect the ankle while it heals:**  \n",
            "   - Put a hard cast or special boot (like a superhero armor for the ankle)  \n",
            "   - Use crutches to walk without putting weight on it (like how you might use training wheels when learning to ride a bike)\n",
            "\n",
            "6. **Physical therapy (exercise time):**  \n",
            "   After a few weeks, a physical therapist will help:  \n",
            "   - Move the ankle gently (like stretching after sitting too long)  \n",
            "   - Strengthen the muscles (with special exercises)  \n",
            "   - Learn to walk normally again\n",
            "\n",
            "7. **Follow-up visits:**  \n",
            "   The doctor will check how it's healing with more X-rays, like progress pictures to see if the bones are mending well.\n",
            "\n",
            "8. **Full recovery time:**  \n",
            "   Tell the patient it will take about 6-8 weeks before the bone is strong enough to walk on normally - about the time it takes to grow out your hair if you cut it very short!\n",
            "\n",
            "The most important thing is that this is a fixable injury - just like when you get a big scrape, your body knows how to heal itself if we help set it up right!\n",
            "\n",
            "Would you like me to explain any part again in a different way? I can use more analogies if that would help. \n",
            "\n",
            "\n"
          ]
        }
      ],
      "source": [
        "message = [\n",
        "    {\n",
        "        \"role\": \"user\",\n",
        "        \"content\": \"\"\"You are currently talking with an elementary school student.\n",
        "Please describe the treatment plan, step by step.\n",
        "\n",
        "case:\n",
        "A 29-year-old male patient was brought to the emergency department after a motorcycle accident.\n",
        "He has severe pain and visible deformity around the right ankle.\n",
        "X-ray shows a displaced bimalleolar fracture with possible ligament injury.\n",
        "The patient is alert and stable, but unable to bear weight.\n",
        "\"\"\"    }\n",
        "]\n",
        "\n",
        "response = get_completion(messages=message)\n",
        "print(response, \"\\n\\n\")"
      ]
    },
    {
      "cell_type": "markdown",
      "metadata": {
        "id": "fbkiR9D9R3V-"
      },
      "source": [
        "### **5.1.2 Style Prompting**"
      ]
    },
    {
      "cell_type": "markdown",
      "metadata": {
        "id": "y-RPnlDmR3V-"
      },
      "source": [
        "This technique entails defining the **desired style, tone, or genre** within the prompt to influence the output of a large language model. A comparable outcome can often be achieved through role prompting."
      ]
    },
    {
      "cell_type": "markdown",
      "metadata": {
        "id": "9LHSOdOBR3V-"
      },
      "source": [
        "**Compare the Structural Prompts**\n",
        "\n",
        "These two prompts show noticeable distinctions."
      ]
    },
    {
      "cell_type": "code",
      "execution_count": null,
      "metadata": {
        "id": "mB70bqjYR3V-",
        "outputId": "0ea25e92-bcc3-4071-d883-30d8060c0079"
      },
      "outputs": [
        {
          "name": "stdout",
          "output_type": "stream",
          "text": [
            "\"BTS: The world's most charming, talented, and addictive K-pop sensation.\" \n",
            "\n",
            "\n"
          ]
        }
      ],
      "source": [
        "message = [\n",
        "    {\n",
        "        \"role\": \"user\",\n",
        "        \"content\": \"Write a ten-word sentence about BTS, the Korean singers, in a humorous tone.\"\n",
        "    }\n",
        "]\n",
        "\n",
        "response = get_completion(messages=message)\n",
        "print(response, \"\\n\\n\")"
      ]
    },
    {
      "cell_type": "code",
      "execution_count": null,
      "metadata": {
        "id": "C8_SchTQR3V-",
        "outputId": "1009d99b-a956-476e-b4fe-186a29868a55"
      },
      "outputs": [
        {
          "name": "stdout",
          "output_type": "stream",
          "text": [
            "BTS, seven-member South Korean band, creates captivating music and performances. \n",
            "\n",
            "\n"
          ]
        }
      ],
      "source": [
        "message = [\n",
        "    {\n",
        "        \"role\": \"user\",\n",
        "        \"content\": \"Write a ten-word sentence about BTS, the Korean singers.\"\n",
        "    }\n",
        "]\n",
        "\n",
        "response = get_completion(messages=message)\n",
        "print(response, \"\\n\\n\")"
      ]
    },
    {
      "cell_type": "markdown",
      "metadata": {
        "id": "a1cD2bhxR3V-"
      },
      "source": [
        "- **Stylistic Constraints**\n",
        "\n",
        "For style prompting, we can also use `stylistic constraints`, which exist in all languages. This often consists of an adjective placed before a document type, such as in the examples:  \n",
        "\n",
        "- \"write a formal email to my boss.\"   \n",
        "\n",
        "- \"write a funny pickup line.\"\n",
        "\n",
        "Here are some stylistic constraint examples:  "
      ]
    },
    {
      "cell_type": "markdown",
      "metadata": {
        "id": "Yj3LKH7AR3V-"
      },
      "source": [
        "> writing style, tone, mood, characterization, pacing, plot and genre.  \n",
        "  \n",
        "- writing style: functional, flowery, candid, prosaic, ornate, poetic  \n",
        "\n",
        "- tone: dramatic, humorous, sad, optimistic, formal, informal, assertive, aggressive  \n",
        "\n",
        "- mood: angry, fearful, happy, sad  \n",
        "\n",
        "- pacing : fast and slow paces  "
      ]
    },
    {
      "cell_type": "markdown",
      "metadata": {
        "id": "u3Ep96leR3V_"
      },
      "source": [
        "### **5.1.3 Examples**"
      ]
    },
    {
      "cell_type": "markdown",
      "metadata": {
        "id": "XiPahi14R3V_"
      },
      "source": [
        "**Example #1: Tone in a Medical Context**  \n",
        "\n",
        "Scenario: Doctor explaining the same test result to a patient"
      ]
    },
    {
      "cell_type": "code",
      "source": [
        "CASE = \"\"\"\n",
        "The patient’s follow-up CT scan shows that the lung nodule has increased in size\n",
        "and now appears irregular compared to the previous scan.\n",
        "Further evaluation and possibly a biopsy are recommended.\n",
        "\"\"\""
      ],
      "metadata": {
        "id": "3f7Cz6eWbKZu"
      },
      "execution_count": null,
      "outputs": []
    },
    {
      "cell_type": "code",
      "execution_count": null,
      "metadata": {
        "colab": {
          "base_uri": "https://localhost:8080/"
        },
        "id": "f9ihCiEIR3V_",
        "outputId": "afe96666-b89c-4f8d-dfd7-1fc8285c5852"
      },
      "outputs": [
        {
          "output_type": "stream",
          "name": "stdout",
          "text": [
            "=== Formal Tone ===\n",
            "\n",
            "**Patient Name:** [Patient’s Name]  \n",
            "**Date of Report:** [Date]  \n",
            "\n",
            "**Subject: Follow-Up on CT Scan Findings**  \n",
            "\n",
            "Dear [Patient’s Name],  \n",
            "\n",
            "Thank you for following up on your recent CT scan. After a thorough review of your imaging results, I regret to inform you that the lung nodule previously identified has shown an increase in size and now exhibits an irregular appearance compared to the earlier scan. These changes warrant further evaluation to determine the nature of the nodule and guide appropriate management.  \n",
            "\n",
            "To provide a definitive diagnosis, we recommend proceeding with additional diagnostic steps, which may include a biopsy of the nodule. This procedure will allow our team to obtain a tissue sample for laboratory analysis, which is essential for understanding the underlying cause and planning any necessary treatment.  \n",
            "\n",
            "Please schedule an appointment at your earliest convenience to discuss the next steps in detail. Our team will coordinate the process and address any questions or concerns you may have. Early evaluation is important, and we are committed to supporting you through this process.  \n",
            "\n",
            "Sincerely,  \n",
            "\n",
            "[Your Full Name, MD]  \n",
            "[Your Specialty]  \n",
            "[Clinic/Hospital Name]  \n",
            "[Contact Information]  \n",
            "\n",
            "---  \n",
            "**Note:** This letter is intended for informational purposes. Detailed discussions regarding risks, benefits, and alternatives to biopsy or other procedures will occur during your follow-up visit. \n",
            "\n",
            "\n"
          ]
        }
      ],
      "source": [
        "# ---------- Example 1 : Formal tone ----------\n",
        "message = [\n",
        "    {\n",
        "        \"role\": \"user\",\n",
        "        \"content\": f\"\"\"You are a physician.\n",
        "Explain the following test result to the patient in a **formal tone**.\n",
        "\n",
        "case:\n",
        "{CASE}\n",
        "\"\"\"\n",
        "    }\n",
        "]\n",
        "\n",
        "response = get_completion(messages=message)\n",
        "print(\"=== Formal Tone ===\\n\")\n",
        "print(response, \"\\n\\n\")\n"
      ]
    },
    {
      "cell_type": "code",
      "execution_count": null,
      "metadata": {
        "colab": {
          "base_uri": "https://localhost:8080/"
        },
        "id": "qWeLo0YKR3V_",
        "outputId": "29beadb7-e49d-4999-f36c-da68f62b1aa1"
      },
      "outputs": [
        {
          "output_type": "stream",
          "name": "stdout",
          "text": [
            "=== Empathetic Tone ===\n",
            "\n",
            "I understand that receiving news about changes in your health can be concerning, and I want to assure you that I’m here to support you and explain everything clearly.  \n",
            "\n",
            "From your recent CT scan, we noticed that the small spot (nodule) in your lung has grown slightly compared to the earlier scan, and its shape now looks a bit more irregular. While this change might raise questions, it’s important to remember that many nodules can vary in appearance over time, and further testing will help us understand exactly what this means for you.  \n",
            "\n",
            "To get more information, we recommend a few additional steps, such as a biopsy, where we can take a tiny sample of the nodule to examine it closely under a microscope. This will help us determine the cause and guide the next steps in your care. Our team will walk you through every part of the process and answer any questions you may have along the way.  \n",
            "\n",
            "In the meantime, please know that we’re here to listen and support you. Let’s schedule a time to discuss your options in more detail and create a plan that feels right for you.  \n",
            "\n",
            "How are you feeling about this news? I’d be happy to spend more time addressing any concerns.  \n",
            "\n",
            "Warm regards,  \n",
            "[Your Name]  \n",
            "\n",
            "*(Note: This explanation balances honesty with reassurance, avoids medical jargon, and invites the patient to share their feelings.)* \n",
            "\n",
            "\n"
          ]
        }
      ],
      "source": [
        "# ---------- Example 2 : Empathetic tone ----------\n",
        "message = [\n",
        "    {\n",
        "        \"role\": \"user\",\n",
        "        \"content\": f\"\"\"You are a physician.\n",
        "Explain the following test result to the patient in an **empathetic tone**.\n",
        "\n",
        "case:\n",
        "{CASE}\n",
        "\"\"\"\n",
        "    }\n",
        "]\n",
        "\n",
        "response = get_completion(messages=message)\n",
        "print(\"=== Empathetic Tone ===\\n\")\n",
        "print(response, \"\\n\\n\")"
      ]
    },
    {
      "cell_type": "code",
      "source": [
        "\n",
        "# ---------- Example 3 : Aggresive tone ----------\n",
        "message = [\n",
        "    {\n",
        "        \"role\": \"user\",\n",
        "        \"content\": f\"\"\"You are a physician.\n",
        "Explain the following test result to the patient in an **aggressive tone**.\n",
        "\n",
        "case:\n",
        "{CASE}\n",
        "\"\"\"\n",
        "    }\n",
        "]\n",
        "\n",
        "response = get_completion(messages=message)\n",
        "print(\"=== Aggresive Tone ===\\n\")\n",
        "print(response, \"\\n\\n\")"
      ],
      "metadata": {
        "colab": {
          "base_uri": "https://localhost:8080/"
        },
        "id": "UtgRa8GUajmq",
        "outputId": "6c439615-a4b7-43a2-b78d-0fc412c4a8a0"
      },
      "execution_count": null,
      "outputs": [
        {
          "output_type": "stream",
          "name": "stdout",
          "text": [
            "=== Aggresive Tone ===\n",
            "\n",
            "\"Look, your CT scan shows the lung nodule has *grown* and is now *irregular*—that’s not good. This could mean it’s something serious, like cancer. You need to stop ignoring this and get it checked out *now*. If you keep delaying, it might be too late. Do you want to risk it getting worse? Get a biopsy scheduled—*today*. This isn’t a suggestion; it’s a necessity. Act like your life depends on it—*because it might*.\"  \n",
            "\n",
            "(Note: This tone is intentionally harsh and may harm patient trust or cooperation. A collaborative, empathetic approach is generally more effective in medicine.) \n",
            "\n",
            "\n"
          ]
        }
      ]
    },
    {
      "cell_type": "markdown",
      "metadata": {
        "id": "BPPcE3T1R3V_"
      },
      "source": [
        "**Example #2: Business Email**"
      ]
    },
    {
      "cell_type": "code",
      "execution_count": null,
      "metadata": {
        "id": "OTY4jPQER3V_",
        "outputId": "94bbec20-fe09-4033-aef7-c13d7c24c04b"
      },
      "outputs": [
        {
          "name": "stdout",
          "output_type": "stream",
          "text": [
            "Subject: Heartfelt Thanks for Your Outstanding Efforts and Successful Project Completion\n",
            "\n",
            "Dear [Team Members' Names],\n",
            "\n",
            "I hope this message finds you well. I am writing to express my deepest gratitude and appreciation for your exceptional dedication, hard work, and unwavering commitment throughout the duration of our recent project. As your team leader, I am incredibly proud to be a part of such a talented and driven group of individuals.\n",
            "\n",
            "The successful completion of this project is a testament to the collective efforts and achievements of our entire marketing team. I would like to take a moment to highlight some of the key accomplishments we have made together:\n",
            "\n",
            "1. [Accomplishment 1]: By [specific achievement], we have [positive impact on the company/clients].\n",
            "2. [Accomplishment 2]: Our [specific achievement] has [positive impact on the company/clients].\n",
            "3. [Accomplishment 3]: The [specific achievement] demonstrates our [positive attribute/skill], which will continue to benefit our team and organization in the future.\n",
            "\n",
            "I am truly grateful for the long hours, late nights, and extra efforts that each of you has put into ensuring the success of this project. Your professionalism, creativity, and collaborative spirit have not gone unnoticed, and I am confident that these qualities will continue to drive our team towards even greater accomplishments.\n",
            "\n",
            "As we move forward, I would like to provide a brief overview of the next steps in our project pipeline:\n",
            "\n",
            "1. [Next Step 1]: We will begin by [specific action], with the goal of [desired outcome].\n",
            "2. [Next Step 2]: Following the completion of [Next Step 1], we will [specific action], in order to [desired outcome].\n",
            "3. [Next Step 3]: To ensure the continued success of our team, we will [specific action], which will [positive impact on the team/company].\n",
            "\n",
            "I am excited to embark on these new challenges with each of you and am confident that, together, we will continue to exceed expectations and achieve greatness.\n",
            "\n",
            "Once again, thank you for your exceptional efforts, unwavering commitment, and outstanding achievements. I am honored to lead such an incredible team.\n",
            "\n",
            "Warm regards,\n",
            "\n",
            "[Your Name]\n",
            "[Your Title]\n",
            "[Your Contact Information] \n",
            "\n",
            "\n"
          ]
        }
      ],
      "source": [
        "message = [\n",
        "    {\n",
        "        \"role\": \"user\",\n",
        "        \"content\": \"write a formal and well-structured buisness email to my employees. As the team leader of the marketing team, I want to send a thank-you email to my team members after the project's completion. In this email, I want to emphasize the team's efforts and achievements, and include a brief overview of the next steps.\"\n",
        "    }\n",
        "]\n",
        "\n",
        "response = get_completion(messages=message)\n",
        "print(response, \"\\n\\n\")"
      ]
    },
    {
      "cell_type": "markdown",
      "source": [],
      "metadata": {
        "id": "7ey1gKLndeSf"
      }
    },
    {
      "cell_type": "markdown",
      "metadata": {
        "id": "5A6dpwi5R3V_"
      },
      "source": [
        "**References**\n",
        "\n",
        "Zheng, M., Pei, J., Logeswaran, L., Lee, M., & Jurgens, D. (2024, November). *When” A Helpful Assistant” Is Not Really Helpful: Personas in System Prompts Do Not Improve Performances of Large Language Models.* In Findings of the Association for Computational Linguistics: EMNLP 2024 (pp. 15126-15154).\n",
        "\n",
        "Lu, A., Zhang, H., Zhang, Y., Wang, X., & Yang, D. (2023). *Bounding the capabilities of large language models in open text generation with prompt constraints.* arXiv preprint arXiv:2302.09185."
      ]
    },
    {
      "cell_type": "markdown",
      "source": [
        "### **5.1.4 Practice**"
      ],
      "metadata": {
        "id": "NBjEA3Mndll1"
      }
    },
    {
      "cell_type": "markdown",
      "source": [
        "아래 사례에 대해 각 역할의 프롬프트를 넣고, 출력 결과를 확인 및 비교해보세요."
      ],
      "metadata": {
        "id": "wC-huMT2fGfQ"
      }
    },
    {
      "cell_type": "markdown",
      "source": [
        "<사례 요약>\n",
        "\n",
        "23세 남성 환자. 12시간 전부터 배꼽 주위 통증이 시작되어 우하복부(RLQ) 로 이동했고, 메스꺼움과 식욕저하, 미열(37.8℃) 동반. 구급대 도착 시 통증 NRS 7/10. 응급실 도착 후 McBurney 압통 및 반발통 관찰. 초기 활력: BP 118/74, HR 102, RR 18, BT 37.8℃, SpO₂ 98% RA. CBC에서 WBC 13,500/µL, CRP 상승. 복부 초음파에서 급성 충수염 의심 소견."
      ],
      "metadata": {
        "id": "xIlnUiBpemKR"
      }
    },
    {
      "cell_type": "markdown",
      "source": [
        "1) 구급대원 (Paramedic)"
      ],
      "metadata": {
        "id": "Ji6TpdI5exHw"
      }
    },
    {
      "cell_type": "code",
      "source": [
        "message = [\n",
        "    {\n",
        "        \"role\": \"user\",\n",
        "        \"content\": \" \" # ←- Insert your prompt here.\n",
        "    }\n",
        "]\n",
        "\n",
        "response = get_completion(messages=message)\n",
        "print(response, \"\\n\\n\")"
      ],
      "metadata": {
        "colab": {
          "base_uri": "https://localhost:8080/"
        },
        "id": "MkcW2P69ewgK",
        "outputId": "9c90eeeb-eda0-446b-e5d1-d713c5fd4fd3"
      },
      "execution_count": null,
      "outputs": [
        {
          "output_type": "stream",
          "name": "stdout",
          "text": [
            "=== 구급대원 안내 (예상 출력 예시) ===\n",
            "\n",
            "환자분, 현재 증상이 맹장염으로 의심되어 신속히 병원으로 이동해야 합니다. 단계별로 안전하게 도와드리겠습니다.\n",
            "\n",
            "---\n",
            "\n",
            "### **1단계: 편안한 자세 유지**\n",
            "- \"통증이 심한 우하복부(오른쪽 아랫배)를 압박하지 않도록 **옆으로 누워주세요**. 무릎을 약간 구부리는 자세가 통증 완화에 도움이 됩니다.\"\n",
            "\n",
            "---\n",
            "\n",
            "### **2단계: 활력 징후 모니터링**\n",
            "- \"구급대원이 **혈압, 맥박, 체온**을 계속 확인할 거예요. 움직이지 마시고 안정을 취해주세요.\"\n",
            "  - *※ 환자 옆에서 지속적 관찰 (탈수/통증 악화 여부 확인)*\n",
            "\n",
            "---\n",
            "\n",
            "### **3단계: 통증 완화 조치**\n",
            "- \"병원 이동 전 **배를 따뜻하게 보호**할게요. 단, 뜨거운 찜질은 피합니다.\"  \n",
            "  - *※ 온찜질 금지 (염증 확산 위험). 담요로 체온 유지만 수행*\n",
            "\n",
            "---\n",
            "\n",
            "### **4단계: 금식 유지**\n",
            "- \"메스꺼움이 있으니 **물이나 음식을 드시지 마세요**. 구토 시 질식 방지를 위해 **옆으로 돌아누울 준비**를 해주세요.\"\n",
            "\n",
            "---\n",
            "\n",
            "### **5단계: 안전한 이동 준비**\n",
            "1. \"들것(스트레처)로 이동할 때 **몸을 고정**해드릴게요. 통증 부위를 건드리지 않도록 주의하겠습니다.\"  \n",
            "2. \"병원은 **응급실이 있는 2차 의료기관 이상**으로 안내합니다. 약 20~30분 소요될 예정입니다.\"  \n",
            "3. \"이동 중에는 **옆으로 돌아누울 수 있도록** 공간을 확보해드릴게요.\"\n",
            "\n",
            "---\n",
            "\n",
            "### **6단계: 주의사항 설명**\n",
            "- \"만약 **통증이 갑자기 심해지거나 구토, 발열이 증가하면** 즉시 알려주세요.\"  \n",
            "- \"병원에 도착하면 **수술 가능성**을 고려해 **금식 상태**를 유지해야 합니다.\"\n",
            "\n",
            "---\n",
            "\n",
            "환자분, 신속히 병원으로 이동해 정확한 검사와 치료를 받으실 수 있도록 최선을 다하겠습니다. 불안하시면 말씀해주세요. \n",
            "\n",
            "\n"
          ]
        }
      ]
    },
    {
      "cell_type": "markdown",
      "source": [
        "예상 출력 예시(요점)\n",
        "\n",
        "① 안전 확인 및 짧은 병력 청취 → ② 활력징후 재확인, 통증 점수 확인 → ③ 필요 시 산소 모니터링(포화도 유지 설명)\n",
        "\n",
        "④ 금식(NPO) 안내, 진통은 병원 지침에 따라 → ⑤ 부드러운 이송 체위(우측 통증 보호) → ⑥ 병원에 사전 연락(우하복부 통증 의심 충수염 정보 전달)"
      ],
      "metadata": {
        "id": "99oiVQO4e1Zo"
      }
    },
    {
      "cell_type": "markdown",
      "source": [
        "2) 응급실 간호사 (ED Nurse)"
      ],
      "metadata": {
        "id": "gN6BHAvae6KW"
      }
    },
    {
      "cell_type": "code",
      "source": [
        "message = [\n",
        "    {\n",
        "        \"role\": \"user\",\n",
        "        \"content\": \" \" # ←- Insert your prompt here.\n",
        "    }\n",
        "]\n",
        "\n",
        "response = get_completion(messages=message)\n",
        "print(response, \"\\n\\n\")"
      ],
      "metadata": {
        "colab": {
          "base_uri": "https://localhost:8080/"
        },
        "id": "f4N0FD2-e-An",
        "outputId": "aa9af30d-1db9-48f3-b938-617546dea3ca"
      },
      "execution_count": null,
      "outputs": [
        {
          "output_type": "stream",
          "name": "stdout",
          "text": [
            "=== 응급실 간호사 안내 (예상 출력 예시) ===\n",
            "\n",
            "### **23세 남성 환자 (우하복부 통증, McBurney 압통/반발통) 응급실 간호 절차**  \n",
            "**※ 의심 진단: 급성 충수염 (Acute Appendicitis)**  \n",
            "환자는 삼킴 금지(NPO) 상태이며, 의사가 도착하기 전까지 다음과 같은 **단계별 간호 절차**를 수행합니다.\n",
            "\n",
            "---\n",
            "\n",
            "### **1. 초기 평가 및 안전 확보**  \n",
            "- **활력 징후 재확인**: BP 118/74, HR 102, RR 18, BT 37.8℃, SpO₂ 98% 기록.  \n",
            "- **통증 사정**:  \n",
            "  - **PQRSTU 도구** 적용:  \n",
            "    - **P**(통증 위치): 우하복부(McBurney 점).  \n",
            "    - **Q**(통증 질): 찌르는 듯한 통증.  \n",
            "    - **R**(유발/완화 요인): 움직임 시 악화.  \n",
            "    - **S**(강도): NRS 6/10.  \n",
            "    - **T**(시간적 특성): 24시간 지속.  \n",
            "    - **U**(동반 증상): 메스꺼움, 미열.  \n",
            "- **응급실 프로토콜 적용**: 감염 가능성 고려하여 **접촉주의** (미열, 복통).  \n",
            "\n",
            "---\n",
            "\n",
            "### **2. NPO 유지 및 금식 확인**  \n",
            "- 환자에게 **경구 섭취 금지**를 명확히 설명 (수술 가능성 대비).  \n",
            "- **마지막 식사 시간** 확인 및 EMR에 기록.  \n",
            "\n",
            "---\n",
            "\n",
            "### **3. 정맥로 확보 (IV Access)**  \n",
            "- **목적**: 수액 공급, 약물 투여, 긴급 상황 대비.  \n",
            "- **시행 방법**:  \n",
            "  1. 18~20G 정맥주삿바늘로 말초정맥 확보 (전완부 또는 손등).  \n",
            "  2. 생리식염수(0.9% NS) 연결 및 점적 시작 (60~100 mL/hr).  \n",
            "  3. IV 부위 부종/통증 모니터링.  \n",
            "\n",
            "---\n",
            "\n",
            "### **4. 검체 채취 (Lab Tests)**  \n",
            "- **의사 오더 대기 중**이지만, **응급 프로토콜에 따라 선행 가능**:  \n",
            "  - **혈액 검사**: CBC(감염/염증 수치), CRP, 전해질, 혈액 배양.  \n",
            "  - **소변 검사**: 요검사(UTI 배제), 소변 배양.  \n",
            "  - **검사 시 주의사항**: 무균 기술 준수, 라벨링 정확히 기재.  \n",
            "\n",
            "---\n",
            "\n",
            "### **5. 영상검사 준비 (Imaging)**  \n",
            "- **의사 협의 후 진행**:  \n",
            "  - **초음파(US) 우선**: 충수염 평가에 1차 선택 (방사선 노출 최소화).  \n",
            "  - **CT 스캔**: 초음파 결과 불명확 시 시행.  \n",
            "- **준비 사항**:  \n",
            "  - NPO 상태 확인 (CT 시 조영제 사용 가능성).  \n",
            "  - 금속 물품 제거, 검사 동의서 확인.  \n",
            "\n",
            "---\n",
            "\n",
            "### **6. 증상 완화를 위한 중재**  \n",
            "- **통증 관리**:  \n",
            "  - 의사 오더 후 **NSAIDs(케토롤락 등)** 또는 **아세트아미노펜** 투여 (오피오이드는 진단 방해 가능성 있어 신중히).  \n",
            "- **메스꺼움 완화**:  \n",
            "  - 오더 시 **항구토제(온단세트론)** 투여.  \n",
            "\n",
            "---\n",
            "\n",
            "### **7. 의사 도착 후 협조**  \n",
            "- **환자 상태 브리핑**:  \n",
            "  - \"23세 남성, 우하복부 통증, McBurney 압통/반발통, NRS 6/10, 미열 37.8℃. IV 확보 완료, 혈액검사 및 소변검사 예정, 초음파 준비 중.\"  \n",
            "- **수술 가능성 대비**:  \n",
            "  - 금식 유지, 수술 전 검사(혈액형, 응고 기능) 추가.  \n",
            "\n",
            "---\n",
            "\n",
            "### **8. 지속적 모니터링**  \n",
            "- **활력 징후 2~4시간마다** 재확인 (특히 HR, BT, 통증 변화).  \n",
            "- **복막염 징후 관찰**: 복부 강직, 반동압통 악화, 구토 발생 시 즉시 보고.  \n",
            "\n",
            "--- \n",
            "\n",
            "### **※ 주의 사항**  \n",
            "- **충수염 파열 위험**: 통증이 갑자기 감소하거나 전신 상태 악화 시 응급 보고.  \n",
            "- **감염 관리**: 미열이 있으므로 마스크 착용 및 장갑 사용.  \n",
            "\n",
            "이 절차는 **의사 오더와 병원 프로토콜에 따라 조정**될 수 있습니다. \n",
            "\n",
            "\n"
          ]
        }
      ]
    },
    {
      "cell_type": "markdown",
      "source": [
        "예상 출력 예시(요점)\n",
        "\n",
        "① 신원 확인·안전 교육·NPO 재강조 → ② 통증·구역감 사정/NRS 기록 → ③ 정맥로 확보 및 채혈(CBC, CRP 등), 소변검사 안내\n",
        "\n",
        "④ 의사 오더에 따른 수액 시작/진통·항구토제 준비 → ⑤ 복부 초음파/CT 준비(금속·임신 여부 확인) → ⑥ 정형화된 관찰기록(활력 재측정, 통증 재평가)"
      ],
      "metadata": {
        "id": "liE13Nv9fBNs"
      }
    },
    {
      "cell_type": "markdown",
      "source": [
        "3) 응급실 의사 (Emergency Physician)"
      ],
      "metadata": {
        "id": "T7Q4iIgcfS9k"
      }
    },
    {
      "cell_type": "code",
      "source": [
        "message = [\n",
        "    {\n",
        "        \"role\": \"user\",\n",
        "        \"content\": \" \" # ←- Insert your prompt here.\n",
        "    }\n",
        "]\n",
        "\n",
        "response = get_completion(messages=message)\n",
        "print(response, \"\\n\\n\")"
      ],
      "metadata": {
        "colab": {
          "base_uri": "https://localhost:8080/"
        },
        "id": "P-KWcjt4fSUp",
        "outputId": "e0eef68a-0251-4315-bb25-28ae70f3c2a2"
      },
      "execution_count": null,
      "outputs": [
        {
          "output_type": "stream",
          "name": "stdout",
          "text": [
            "=== 응급실 의사 설명 (예상 출력 예시) ===\n",
            "\n",
            "**환자분, 현재 상태를 단계별로 친절하게 설명드리겠습니다.**  \n",
            "\n",
            "### 1. **현재 상황 요약**  \n",
            "- **증상**: 12시간 전부터 시작된 복통이 오른쪽 아랫배로 이동했고, 메스꺼움·미열이 동반되었습니다.  \n",
            "- **검사 결과**: 혈액 검사에서 염증 수치(WBC, CRP)가 약간 상승했고, 초음파에서 **급성 충수염(맹장염)** 이 의심됩니다.  \n",
            "- **촉진 소견**: 오른쪽 아랫배(McBurney 부위)를 누를 때 통증이 있고, 떼는 순간에도 통증이 느껴집니다(반발통).  \n",
            "\n",
            "### 2. **즉시 필요한 처치**  \n",
            "- **금식**: 수술 가능성을 고려해 음식을 드시지 말아야 합니다.  \n",
            "- **수액 공급**: 탈수 예방과 혈액 순환 개선을 위해 정맥 주사(링거)를 시작합니다.  \n",
            "- **해열제/진통제**: 미열과 통증을 조절하기 위해 약물을 투여할 수 있지만, **진단을 방해하지 않는 범위**에서 사용합니다.  \n",
            "\n",
            "### 3. **다음 단계**  \n",
            "#### (1) **영상 검사**  \n",
            "- **복부 CT 촬영**을 권합니다. 초음파보다 정확하게 충수염 여부와 합병증(천공, 농양 등)을 확인할 수 있습니다.  \n",
            "- *환자분께*: \"조금 불편하겠지만, 정확한 진단을 위해 CT 촬영이 필요합니다.\"  \n",
            "\n",
            "#### (2) **항생제 여부**  \n",
            "- **수술 전 예방적 항생제**를 투여할 예정입니다. 충수염 치료 시 감염 위험을 줄이기 위해 필수적입니다.  \n",
            "- *환자분께*: \"수술 중 감염을 방지하기 위해 항생제를 미리 맞을 예정입니다.\"  \n",
            "\n",
            "#### (3) **외과 상담**  \n",
            "- **외과 전문의와 즉시 상의**해 수술 계획을 수립합니다. 현재 증상과 검사 결과로는 **충수절제술(맹장 수술)** 이 가장 유력한 치료법입니다.  \n",
            "- *환자분께*: \"외과 선생님과 상의해 빠르게 수술 일정을 잡을 예정입니다. 대부분 1~2일 내 진행됩니다.\"  \n",
            "\n",
            "### 4. **예후와 추가 설명**  \n",
            "- 충수염은 **조기 수술이 가장 중요**합니다. 방치하면 충수가 터지거나 복막염으로 악화될 수 있습니다.  \n",
            "- 수술은 **복강경(작은 구멍으로 하는 수술)** 으로 진행될 가능성이 높아 회복이 빠릅니다.  \n",
            "- *환자분께*: \"걱정되시겠지만, 이 질환은 적절한 시기에 치료하면 완전히 회복됩니다. 저희가 빠르게 도와드리겠습니다.\"  \n",
            "\n",
            "궁금한 점이 있으면 언제든 질문해 주세요. 함께 치료 계획을 논의하겠습니다. \n",
            "\n",
            "\n"
          ]
        }
      ]
    },
    {
      "cell_type": "markdown",
      "source": [
        "예상 출력 예시(요점)\n",
        "\n",
        "① 진단 추정: 증상·진찰·혈액검사·초음파로 급성 충수염 강력히 의심\n",
        "\n",
        "② 즉시 조치: 금식 유지, 수액, 통증/구역 조절, 필요 시 광범위 항생제 고려\n",
        "\n",
        "③ 영상 보강: CT 필요성 설명(진단 명확화/합병증 평가)\n",
        "\n",
        "④ 외과 컨설트 안내: 수술 가능성·시기 설명 → 동의서/추가 검사 절차"
      ],
      "metadata": {
        "id": "Cry2t5hcfVsw"
      }
    },
    {
      "cell_type": "markdown",
      "source": [
        "4) 내과 전문의 (Internal Medicine Specialist)"
      ],
      "metadata": {
        "id": "l_LPL3PbfY_G"
      }
    },
    {
      "cell_type": "code",
      "source": [
        "message = [\n",
        "    {\n",
        "        \"role\": \"user\",\n",
        "        \"content\": \" \" # ←- Insert your prompt here.\n",
        "    }\n",
        "]\n",
        "\n",
        "response = get_completion(messages=message)\n",
        "print(response, \"\\n\\n\")"
      ],
      "metadata": {
        "colab": {
          "base_uri": "https://localhost:8080/"
        },
        "id": "2h2LfneafdP7",
        "outputId": "fb2bb9ce-5a1e-41f6-fd84-6a73d72a1869"
      },
      "execution_count": null,
      "outputs": [
        {
          "output_type": "stream",
          "name": "stdout",
          "text": [
            "=== 내과 전문의 설명 (예상 출력 예시) ===\n",
            "\n",
            "**환자분, 안녕하세요. 현재 상태를 단계별로 쉽게 설명해 드릴게요.**  \n",
            "\n",
            "### 1. **충수염 진단의 의미**  \n",
            "- 현재 **우하복부 통증, 염증 수치 상승, 초음파 소견**으로 급성 충수염이 의심됩니다.  \n",
            "- 충수염은 맹장 끝에 달린 작은 기관인 '충수'에 염증이 생긴 상태로, **방치 시 천공(터짐) 위험**이 있어 적절한 치료가 필요합니다.  \n",
            "- 다행히 **활력은 안정적**이므로 급성 중증 상태는 아닌 것으로 보입니다.  \n",
            "\n",
            "---\n",
            "\n",
            "### 2. **치료 선택지**  \n",
            "- **수술(복강경 또는 개복술)**이 가장 일반적입니다.  \n",
            "  - 작은 구멍으로 충수를 제거하는 **복강경 수술**이 우선 고려되며, 회복도 빠릅니다.  \n",
            "  - 외과 선생님이 진찰 후 최종 결정하실 거예요.  \n",
            "- **보존적 치료(항생제 투여)**는 드물지만, 초기 염증이거나 수술이 어려운 경우 시도될 수 있습니다.  \n",
            "  - 다만 재발률이 있어 대부분 수술을 권장합니다.  \n",
            "\n",
            "---\n",
            "\n",
            "### 3. **입원 중 예상 과정 & 합병증 모니터링**  \n",
            "- **수술 전**: 금식 유지, 혈액 검사/영상 검사로 상태 확인.  \n",
            "- **수술 후**:  \n",
            "  - **2~3일 내 퇴원**이 일반적이며, 통증은 약물로 조절됩니다.  \n",
            "  - **합병증 모니터링**: 감염(열, 통증 악화), 출혈, 천공 여부 등을 체크합니다.  \n",
            "- **보존적 치료 시**: 항생제 반응(통증/염증 수치 감소)을 매일 평가합니다.  \n",
            "\n",
            "---\n",
            "\n",
            "### 4. **퇴원 후 주의점**  \n",
            "- **수술 후**:  \n",
            "  - 1~2주 내 가벼운 활동 가능, 무리한 운동은 피하세요.  \n",
            "  - 상처 부위 청결 유지(감염 방지).  \n",
            "  - **발열/심한 통증/배 뭉침** 시 즉시 병원 연락.  \n",
            "- **보존적 치료 후**: 재발 가능성 있으니 **복통 재발 시 즉시 검사** 필요합니다.  \n",
            "\n",
            "> **\"현재 상태는 수술만으로도 잘 회복될 가능성이 높아요. 걱정하지 마시고, 외과 선생님과 상담 후 최적의 방법을 선택하시면 됩니다.\"**  \n",
            "\n",
            "궁금한 점은 언제든 질문해 주세요! 😊 \n",
            "\n",
            "\n"
          ]
        }
      ]
    },
    {
      "cell_type": "markdown",
      "source": [
        "예상 출력 예시(요점)\n",
        "\n",
        "① 진단 의미: 충수에 염증이 생겨 통증/발열/혈액염증 증가\n",
        "\n",
        "② 치료 옵션: 표준은 수술(충수절제술), 일부 경증은 항생제 보존적 치료 가능성 있지만 재발 위험 설명\n",
        "\n",
        "③ 입원 중 과정: 금식, 수액·항생제, 통증 조절, 수술 전 평가·동의 → 수술 후 통증관리·체중부하/활동 계획\n",
        "\n",
        "④ 합병증 안내: 감염, 천공/농양 위험, 수술 관련 합병증 간단 설명\n",
        "\n",
        "⑤ 퇴원 후: 상처 관리, 발열/심해지는 복통 시 재내원, 외래 추적"
      ],
      "metadata": {
        "id": "bT1JXO3jfbrz"
      }
    },
    {
      "cell_type": "markdown",
      "metadata": {
        "id": "WONWfhB6R3V_"
      },
      "source": [
        "---"
      ]
    },
    {
      "cell_type": "markdown",
      "metadata": {
        "id": "eRHiBvOoR3V_"
      },
      "source": [
        "<a id=\"sec2\"></a>\n",
        "## **5.2 Maintaining Consistency in Response**"
      ]
    },
    {
      "cell_type": "markdown",
      "metadata": {
        "id": "RUl-WU4UR3V_"
      },
      "source": [
        "**Constraints**\n",
        "\n",
        "- Define clear guidelines for expected **response formats**.  \n",
        "\n",
        "- Use **consistent terminology** throughout prompts to avoid confusion.  \n",
        "\n",
        "Constraints are particularly effective in *zero-shot prompt engineering* techniques."
      ]
    },
    {
      "cell_type": "markdown",
      "metadata": {
        "id": "JI9UZYbDR3V_"
      },
      "source": [
        "### **5.2.1 Define Clear Guidelines for Expected Response Formats**\n",
        "\n",
        "- Specify the structure and components of the expected output.  \n",
        "\n",
        "- Examples of response formats:  \n",
        "\n",
        "    - **List Format**: “Provide a list of five benefits of regular exercise.”  \n",
        "\n",
        "    - **Paragraph Format**: “Explain the importance of renewable energy in a single paragraph.”  \n",
        "\n",
        "    - **Dialogue Format**: “Write a conversation between two characters (Name A and Name B) discussing their weekend plans. Include three multi-turn exchanges.”  "
      ]
    },
    {
      "cell_type": "markdown",
      "metadata": {
        "id": "KEjcLEHaR3V_"
      },
      "source": [
        "#### **(1) Examples**"
      ]
    },
    {
      "cell_type": "markdown",
      "metadata": {
        "id": "KL4S2L2pR3V_"
      },
      "source": [
        "**Example #1: List Format**"
      ]
    },
    {
      "cell_type": "code",
      "execution_count": null,
      "metadata": {
        "id": "HXHM_EINR3V_",
        "outputId": "73eaff62-745c-43b4-98f4-2f1b29c0063f"
      },
      "outputs": [
        {
          "name": "stdout",
          "output_type": "stream",
          "text": [
            "1. Improved cardiovascular health: Regular exercise strengthens your heart and improves circulation, which can reduce the risk of heart disease.\n",
            "2. Weight management: Engaging in physical activity helps you maintain a healthy weight by burning calories and building muscle.\n",
            "3. Enhanced mental health: Exercise has been shown to alleviate symptoms of anxiety and depression, improve mood, and boost self-esteem.\n",
            "4. Increased energy levels: Regular physical activity helps deliver oxygen and nutrients to your tissues and helps your cardiovascular system work more efficiently, leading to increased energy levels.\n",
            "5. Better sleep: Regular exercise can help you fall asleep faster and deepen your sleep, which can improve overall sleep quality. \n",
            "\n",
            "\n"
          ]
        }
      ],
      "source": [
        "message = [\n",
        "    {\n",
        "        \"role\": \"user\",\n",
        "        \"content\": \"Provide a list of five benefits of regular exercise.\"\n",
        "    }\n",
        "]\n",
        "\n",
        "response = get_completion(messages=message)\n",
        "print(response, \"\\n\\n\")"
      ]
    },
    {
      "cell_type": "markdown",
      "metadata": {
        "id": "jmjGfGy0R3V_"
      },
      "source": [
        "**Example #2: Paragraph Format**"
      ]
    },
    {
      "cell_type": "code",
      "execution_count": null,
      "metadata": {
        "id": "ajP1kOI_R3V_",
        "outputId": "6ca21253-5d8b-4c5c-b296-9cd864fd3af6"
      },
      "outputs": [
        {
          "name": "stdout",
          "output_type": "stream",
          "text": [
            "Renewable energy is of paramount importance for a sustainable future as it offers a clean, inexhaustible, and environmentally-friendly alternative to fossil fuels. Harnessing power from renewable sources like sunlight, wind, water, and geothermal heat helps reduce greenhouse gas emissions, mitigating climate change and improving air quality. Moreover, renewable energy technologies are becoming increasingly cost-competitive and accessible, fostering energy security, independence, and economic growth through job creation and technological innovation. By transitioning to renewables, we can ensure energy availability for future generations while protecting ecosystems and biodiversity. \n",
            "\n",
            "\n"
          ]
        }
      ],
      "source": [
        "message = [\n",
        "    {\n",
        "        \"role\": \"user\",\n",
        "        \"content\": \"Explain the importance of renewable energy in a single paragraph.\"\n",
        "    }\n",
        "]\n",
        "\n",
        "response = get_completion(messages=message)\n",
        "print(response, \"\\n\\n\")"
      ]
    },
    {
      "cell_type": "markdown",
      "metadata": {
        "id": "u-WYn0r3R3WD"
      },
      "source": [
        "**Example #3: Dialogue Format**"
      ]
    },
    {
      "cell_type": "code",
      "execution_count": null,
      "metadata": {
        "colab": {
          "base_uri": "https://localhost:8080/"
        },
        "id": "o45iDAW6R3WD",
        "outputId": "37ef3a6d-fdb6-4f08-c211-b5066ebbedd3"
      },
      "outputs": [
        {
          "output_type": "stream",
          "name": "stdout",
          "text": [
            "**Doctor A:** Good morning, Patient B! How are you feeling since our last visit?  \n",
            "\n",
            "**Patient B:** Morning, Doctor A. I’ve been managing better, but I still have some stiffness in the mornings.  \n",
            "\n",
            "**Doctor A:** I see. Let’s review your medication log. Have you been taking your doses as prescribed?  \n",
            "\n",
            "**Patient B:** Mostly, but I skipped one dose last week because I forgot. I’ll set a reminder next time.  \n",
            "\n",
            "**Doctor A:** That’s understandable. Consistency is key. Let’s schedule a follow-up in 4 weeks to reassess. How does that sound?  \n",
            "\n",
            "**Patient B:** Works for me. Should I bring any new tests or just my journal?  \n",
            "\n",
            "**Doctor A:** Bring both—your journal and the bloodwork results from the lab. Also, try this gentle stretching routine I’m prescribing; it might help with the stiffness.  \n",
            "\n",
            "**Patient B:** Will do. Oh, and can we discuss adjusting my dosage at the next visit? I’ve been researching alternatives.  \n",
            "\n",
            "**Doctor A:** Absolutely. I’ll review your progress and any new studies you’ve found. Just email me the links beforehand, okay?  \n",
            "\n",
            "**Patient B:** Got it. Looking forward to it. Thanks, Doctor A!  \n",
            "\n",
            "**Doctor A:** My pleasure. Have a great day, and stay consistent with the stretches!  \n",
            "\n",
            "*(Three multi-turn exchanges: medication adherence/follow-up timing, preparation for the next visit, and treatment adjustments/research discussion.)* \n",
            "\n",
            "\n"
          ]
        }
      ],
      "source": [
        "message = [\n",
        "    {\n",
        "        \"role\": \"user\",\n",
        "        \"content\": \"Write a conversation between two characters (Doctor A and Patient B) discussing their next visit plans. Include three multi-turn exchanges.\"\n",
        "    }\n",
        "]\n",
        "\n",
        "response = get_completion(messages=message)\n",
        "print(response, \"\\n\\n\")"
      ]
    },
    {
      "cell_type": "markdown",
      "metadata": {
        "id": "hNZVfVKWR3WD"
      },
      "source": [
        "### **5.2.2 Use Consistent Terminology throughout Prompts**"
      ]
    },
    {
      "cell_type": "markdown",
      "metadata": {
        "id": "2ex7kUOmR3WD"
      },
      "source": [
        "- Select specific terms and phrases to **use consistently** in all related prompts. This minimizes confusion and helps the model understand the context better.  \n",
        "\n",
        "    For example, if you choose \"user\" to refer to the person interacting with the model, use \"user\" instead of switching to \"client\" or \"participant.”"
      ]
    },
    {
      "cell_type": "markdown",
      "metadata": {
        "id": "hynLF6epR3WD"
      },
      "source": [
        "\n",
        "\n",
        "```\n",
        "# This is formatted as code\n",
        "```\n",
        "\n",
        "### **5.2.3 Practice**"
      ]
    },
    {
      "cell_type": "markdown",
      "metadata": {
        "id": "n8LiLjTnR3WD"
      },
      "source": [
        "**Exercise #1 : Response Format**"
      ]
    },
    {
      "cell_type": "markdown",
      "metadata": {
        "id": "SVwp6WFIR3WE"
      },
      "source": [
        "Read the following text and summarize it. Limit the length. Group similar concepts together and classify them by type."
      ]
    },
    {
      "cell_type": "markdown",
      "metadata": {
        "id": "Zwk7jQbNR3WE"
      },
      "source": [
        "- Text :\n",
        "> **Face Amount**\n",
        ">\n",
        "> The dollar amount to be paid to the beneficiary when the insured dies. It does not include other amounts that may be paid from insurance purchased with dividends or any policy riders.\n",
        ">\n",
        "> **Financial Guarantee Insurance**\n",
        ">\n",
        "> A surety bond, insurance policy or, when issued by an insurer, an indemnity contract and any guaranty similar to the foregoing types, under which loss is payable upon proof of occurrence of financial loss to an insured claimant, obligee, or indemnitee.\n",
        ">\n",
        "> **Fire Insurance**\n",
        ">\n",
        "> Coverage for loss of or damage to a building and/or contents due to fire.\n",
        ">\n",
        "> **Good Driver Discount**\n",
        ">\n",
        "> To be eligible for the Good Drivers Discount all operators of the insured vehicles must have been licensed for three or more year, have no more than a one (1) point charge on their driving record and has not been determined \"at fault\" in an accident resulting in bodily injury or death to any person.\n",
        ">\n",
        "> **Grace Period**\n",
        ">\n",
        "> A specified period immediately following the premium due date during which a payment can be made to continue a policy in force without interruption. This applies only to Life and Health policies. Check your policy to be sure that a grace period is offered and how many days, if any, are allowed.\n",
        ">\n",
        "> **Guaranteed Insurability**\n",
        ">\n",
        "> An option that permits the policy holder to buy additional stated amounts of life insurance at stated times in the future without evidence of insurability.\n",
        ">\n",
        "> **Health Insurance**\n",
        ">\n",
        "> A policy that will pay specifies sums for medical expenses or treatments. Health policies can offer many options and vary in their approaches to coverage.\n",
        ">\n",
        "> **Homeowner Insurance**\n",
        ">\n",
        "> An elective combination of coverages for the risks of owning a home. Can include losses due to fire, burglary, vandalism, earthquake, and other perils.\n",
        ">\n",
        "> **Incontestable Clause**\n",
        ">\n",
        "> A policy provision in which the company agrees not to contest the validity of the contract after it has been in force for a certain period of time, usually two years."
      ]
    },
    {
      "cell_type": "code",
      "execution_count": null,
      "metadata": {
        "id": "BM0AzOHZR3WE"
      },
      "outputs": [],
      "source": [
        "message = [\n",
        "    {\n",
        "        \"role\": \"user\",\n",
        "        \"content\": \" \" # ←- Insert your prompt here.\n",
        "    }\n",
        "]\n",
        "\n",
        "response = get_completion(messages=message)\n",
        "print(response, \"\\n\\n\")"
      ]
    },
    {
      "cell_type": "markdown",
      "metadata": {
        "id": "8lIJ9iF5R3WE"
      },
      "source": [
        "**$\\rightarrow$ Expected Output:**\n",
        "\n",
        "> 1. **Insurance Types**:\n",
        "> - Financial Guarantee Insurance: A contract that covers financial loss.\n",
        "> - Fire Insurance: Covers loss or damage due to fire.\n",
        "> - Health Insurance: Pays for medical expenses or treatments.\n",
        "> - Homeowner Insurance: Covers risks of owning a home, like fire, burglary, etc.\n",
        "> 2. **Policy Features**:\n",
        "> - Face Amount: The dollar amount paid to the beneficiary upon the insured's death.\n",
        "> - Good Driver Discount: Discount for drivers with clean records.\n",
        "> - Grace Period: Period after premium due date to continue a policy without interruption.\n",
        "> - Guaranteed Insurability: Option to buy additional insurance without evidence of insurability.\n",
        "> - Incontestable Clause: Provision preventing the company from contesting the contract's validity after a certain period.\n",
        "  \n",
        "  "
      ]
    },
    {
      "cell_type": "markdown",
      "metadata": {
        "id": "bJj2ltP0R3WE"
      },
      "source": [
        "**Exercise #2: Terminology Consistency**"
      ]
    },
    {
      "cell_type": "markdown",
      "metadata": {
        "id": "Xp_-k_ABR3WE"
      },
      "source": [
        "Explain the differences between a 'meme' and a 'viral video' in the context of social media marketing. Use 'content' to refer to both."
      ]
    },
    {
      "cell_type": "code",
      "execution_count": null,
      "metadata": {
        "id": "L7p30dLTR3WE"
      },
      "outputs": [],
      "source": [
        "message = [\n",
        "    {\n",
        "        \"role\": \"user\",\n",
        "        \"content\": \" \" # ←- Insert your prompt here.\n",
        "    }\n",
        "]\n",
        "\n",
        "response = get_completion(messages=message)\n",
        "print(response, \"\\n\\n\")"
      ]
    },
    {
      "cell_type": "markdown",
      "metadata": {
        "id": "PvqoM1J9R3WE"
      },
      "source": [
        "**$\\rightarrow$ Expected Output:**\n",
        "\n",
        "> A meme is a type of content that spreads humor or cultural ideas through images and text, while a viral video is a type of content that rapidly gains popularity and is shared widely across platforms."
      ]
    },
    {
      "cell_type": "markdown",
      "source": [
        "**Exercise #3: Medical Terminology Relationship**"
      ],
      "metadata": {
        "id": "iNCEmcJMi9pX"
      }
    },
    {
      "cell_type": "markdown",
      "source": [
        "Explain the relationship between a 'Tylenol' and a 'Acetaminophen' in the context of clinical note taking. Use 'content' to refer to both."
      ],
      "metadata": {
        "id": "z0AxqwhiiEvn"
      }
    },
    {
      "cell_type": "code",
      "source": [
        "message = [\n",
        "    {\n",
        "        \"role\": \"user\",\n",
        "        \"content\": \" \" # ←- Insert your prompt here.\n",
        "    }\n",
        "]\n",
        "\n",
        "response = get_completion(messages=message)\n",
        "print(response, \"\\n\\n\")"
      ],
      "metadata": {
        "id": "gy14INLgiUFT"
      },
      "execution_count": null,
      "outputs": []
    },
    {
      "cell_type": "markdown",
      "source": [
        "**$\\rightarrow$ Expected Output:**\n",
        "\n",
        "> Tylenol is a brand of the medication whose active ingredient is acetaminophen. Both refer to the same drug, classified as an analgesic and antipyretic. It works by inhibiting prostaglandin synthesis in the central nervous system."
      ],
      "metadata": {
        "id": "KSn9_jC3jUiw"
      }
    },
    {
      "cell_type": "markdown",
      "metadata": {
        "id": "L72zrLAGR3WE"
      },
      "source": [
        "*Next: [Chapter 6. Unstructured vs. Structured Prompting](./06_Chapter%206.%20Unstructured%20vs.%20Structured%20Prompting.ipynb)*"
      ]
    }
  ],
  "metadata": {
    "kernelspec": {
      "display_name": "base",
      "language": "python",
      "name": "python3"
    },
    "language_info": {
      "codemirror_mode": {
        "name": "ipython",
        "version": 3
      },
      "file_extension": ".py",
      "mimetype": "text/x-python",
      "name": "python",
      "nbconvert_exporter": "python",
      "pygments_lexer": "ipython3",
      "version": "3.12.4"
    },
    "colab": {
      "provenance": [],
      "include_colab_link": true
    }
  },
  "nbformat": 4,
  "nbformat_minor": 0
}