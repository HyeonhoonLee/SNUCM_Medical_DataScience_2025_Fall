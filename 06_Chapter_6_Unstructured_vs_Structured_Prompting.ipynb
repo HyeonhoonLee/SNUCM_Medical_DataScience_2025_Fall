{
  "cells": [
    {
      "cell_type": "markdown",
      "metadata": {
        "id": "view-in-github",
        "colab_type": "text"
      },
      "source": [
        "<a href=\"https://colab.research.google.com/github/HyeonhoonLee/SNUCM_Medical_DataScience_2025_Fall/blob/main/06_Chapter_6_Unstructured_vs_Structured_Prompting.ipynb\" target=\"_parent\"><img src=\"https://colab.research.google.com/assets/colab-badge.svg\" alt=\"Open In Colab\"/></a>"
      ]
    },
    {
      "cell_type": "markdown",
      "metadata": {
        "id": "lLMA8ZkxL3kG"
      },
      "source": [
        "# **Chapter 6. Unstructured vs. Structured Prompting**"
      ]
    },
    {
      "cell_type": "markdown",
      "metadata": {
        "id": "BRPSHPh2L3kK"
      },
      "source": [
        "This chapter introduces **unstructured and structured prompting.**\n",
        "\n",
        "**Unstructured prompting** is free and often resembles natural language input, suitable for conversational or exploratory tasks.\n",
        "\n",
        "By contrast, **structured prompting** uses organized frameworks like **markdown, headings, tags and delimeters**, which guide Solar to focus on specific sections and better interpret complex prompts. Structured prompts can improve response consistency, especially in complex tasks where clear sectioning and categorization are essential. As a result Solar performs better when using structured prompting.\n",
        "\n",
        "Using structured prompting can make Prompt `Types A to D` clearer."
      ]
    },
    {
      "cell_type": "markdown",
      "metadata": {
        "id": "95zlL9MCL3kM"
      },
      "source": [
        "We are going to examine how two types prompting display different responses from the Solar model."
      ]
    },
    {
      "cell_type": "markdown",
      "metadata": {
        "id": "BDrTfVFAL3kN"
      },
      "source": [
        "## **Table of Contents**\n",
        "- Use `Ctrl + F` (Windows) or `Cmd + F` (Mac) to locate specific sections by title."
      ]
    },
    {
      "cell_type": "markdown",
      "metadata": {
        "id": "pc5C73-aL3kN"
      },
      "source": [
        "- **6.1 Unstructured Prompting**  \n",
        "\n",
        "    - 6.1.1 Introduction  \n",
        "\n",
        "    - 6.1.2 Example  \n",
        "        \n",
        "  \n",
        "- **6.2 Structured Prompting**   \n",
        "\n",
        "    - 6.2.1 Markup Syntax  \n",
        "\n",
        "    - 6.2.2 Difference between Delimeters and XML tags  \n",
        "\n",
        "        - (1) Structure and Hierarchy  \n",
        "\n",
        "        - (2) Complexity and Flexibility\n",
        "  \n",
        "       \n",
        "    - 6.2.3 Examples  \n",
        "  \n",
        "  \n",
        "- **6.3 Practice**"
      ]
    },
    {
      "cell_type": "markdown",
      "metadata": {
        "id": "RIdDm2F6L3kO"
      },
      "source": [
        "**Set up**"
      ]
    },
    {
      "cell_type": "code",
      "execution_count": null,
      "metadata": {
        "colab": {
          "base_uri": "https://localhost:8080/"
        },
        "id": "-rstqDgyL3kP",
        "outputId": "eb1a4dce-7946-409d-ca4e-55f0f9618cd6"
      },
      "outputs": [
        {
          "name": "stdout",
          "output_type": "stream",
          "text": [
            "no stored variable or alias UPSTAGE_API_KEY\n",
            "Since, name 'UPSTAGE_API_KEY' is not defined\n",
            "Please, insert your API key.\n",
            "UPSTAGE_API_KEY =up_pXmTtbxeIS6UCzBrhUKQUpBRjRTiu\n"
          ]
        }
      ],
      "source": [
        "from openai import OpenAI\n",
        "\n",
        "# Retrieve the UPSTAGE_API_KEY variable from the IPython store\n",
        "%store -r UPSTAGE_API_KEY\n",
        "\n",
        "try:\n",
        "    if UPSTAGE_API_KEY:\n",
        "        print(\"Success!\")\n",
        "except NameError as ne:\n",
        "    print(f\"Since, {ne}\")\n",
        "    print(\"Please, insert your API key.\")\n",
        "    UPSTAGE_API_KEY = input(\"UPSTAGE_API_KEY =\")\n",
        "\n",
        "# Set your API key:\n",
        "# UPSTAGE_API_KEY = \" \" ←- Insert your API key here.\n",
        "\n",
        "client = OpenAI(\n",
        "    api_key= UPSTAGE_API_KEY,\n",
        "    base_url=\"https://api.upstage.ai/v1/solar\"\n",
        ")\n",
        "\n",
        "config_model = {\n",
        "    \"model\": \"solar-pro2\",\n",
        "    \"max_tokens\": 996,\n",
        "    \"temperature\": 0.5,\n",
        "    \"top_p\": 1.0,\n",
        "}\n",
        "\n",
        "def get_completion(messages, system_prompt=\"\", config=config_model):\n",
        "    try:\n",
        "        if system_prompt:\n",
        "            messages = [{\"role\": \"system\", \"content\": system_prompt}] + messages\n",
        "\n",
        "        message = client.chat.completions.create(messages=messages, **config)\n",
        "        return message.choices[0].message.content\n",
        "\n",
        "    except Exception as e:\n",
        "        print(f\"Error during API call: {e}\")\n",
        "        return None"
      ]
    },
    {
      "cell_type": "markdown",
      "metadata": {
        "id": "cNJroh2ZL3kR"
      },
      "source": [
        "---"
      ]
    },
    {
      "cell_type": "markdown",
      "metadata": {
        "id": "bgMRtnrUL3kS"
      },
      "source": [
        "## **6.1 Unstructured Prompting**"
      ]
    },
    {
      "cell_type": "markdown",
      "metadata": {
        "id": "RpyIuGZ6L3kT"
      },
      "source": [
        "### **6.1.1 Introduction**"
      ]
    },
    {
      "cell_type": "markdown",
      "metadata": {
        "id": "yzIAqSZiL3kU"
      },
      "source": [
        "**Unstructured prompting** is an open-ended approach to guiding a model, using natural, free-flowing language without specific formatting or structure. This type of prompting relies on conversational tone or general instructions, giving the model more flexibility but less direction."
      ]
    },
    {
      "cell_type": "markdown",
      "metadata": {
        "id": "feqSw92EL3kU"
      },
      "source": [
        "### **6.1.2 Example**"
      ]
    },
    {
      "cell_type": "markdown",
      "metadata": {
        "id": "-XnQf2LFL3kU"
      },
      "source": [
        "**Example #1: Summarization Task**\n",
        "\n",
        "Task: you want Solar to summarize a technical document with specific sections highlighted for easy reference."
      ]
    },
    {
      "cell_type": "markdown",
      "metadata": {
        "id": "hZ2V7BqwL3kV"
      },
      "source": [
        "- Text Source: [Best Practices for Tagging AWS Resources](https://docs.aws.amazon.com/whitepapers/latest/tagging-best-practices/tagging-best-practices.html?did=wp_card&trk=wp_card)  \n",
        "\n",
        "!This structure, where an external text source is retrieved, was `Type D`."
      ]
    },
    {
      "cell_type": "code",
      "execution_count": null,
      "metadata": {
        "id": "QYZYjXxYL3kV"
      },
      "outputs": [],
      "source": [
        "text = \"\"\"Are you Well-Architected?\n",
        "The AWS Well-Architected Framework helps you understand the pros and cons of the decisions you make when building systems in the cloud. The six pillars of the Framework allow you to learn architectural best practices for designing and operating reliable, secure, efficient, cost-effective, and sustainable systems. Using the AWS Well-Architected Tool, available at no charge in the AWS Management Console, you can review your workloads against these best practices by answering a set of questions for each pillar.\n",
        "For more expert guidance and best practices for your cloud architecture—reference architecture deployments, diagrams, and whitepapers—refer to the AWS Architecture Center.\n",
        "\n",
        "Introduction\n",
        "AWS makes it easy to deploy your workloads in AWS by creating resources, such as Amazon EC2 instances, Amazon EBS volumes, security groups, and AWS Lambda functions. You can also scale and grow the ﬂeet of AWS resources that hosts your applications, stores your data, and expands your AWS infrastructure over time. As your AWS usage grows to many resource types spanning multiple applications, you will need a mechanism to track which resources are assigned to which application. Use this mechanism to support your operational activities, such as cost monitoring, incident management, patching, backup, and access control.\n",
        "In on-premises environments, this knowledge is often captured in knowledge management systems, document management systems, and on internal wiki pages. With a configuration management database (CMDB), you can store and manage the relevant detailed metadata using standard change control processes. This approach provides governance, but requires additional effort to develop and maintain. You can take a structured approach to the naming of resources, but a resource name can only hold a limited amount of information.\n",
        "\n",
        "One of the first tagging use cases organizations often tackle is visibility and management of cost and usage. There are usually a few reasons for this:\n",
        "\n",
        "1. It's typically a well understood scenario and requirements are well known. For example, finance teams want to see the total cost of workloads and infrastructure that span across multiple services, features, accounts, or teams. One way to achieve this cost visibility is through consistent tagging of resources.\n",
        "2. Tags and their values are clearly defined. Usually, cost allocation mechanisms already exist in an organization’s finance systems, for example, tracking by cost center, business unit, team, or organization function\n",
        "3. Rapid, demonstrable return on investment. It’s possible to track cost optimization trends over time when resources are tagged consistently, for example, for resources that were rightsized, auto-scaled, or put on a schedule.\n",
        "Understanding how you incur costs in AWS allows you to make informed financial decisions. Knowing where you have incurred costs at the resource, workload, team, or organization level enhances your understanding of the value delivered at the applicable level when compared to the business outcomes achieved.\n",
        "The engineering teams might not have experience with financial management of their resources. Attaching a person with a specialized skill in AWS financial management who can train engineering and development teams on the basics of AWS financial management and create a relationship between finance and engineering to foster the culture of FinOps will help achieve measurable outcomes for the business and encourage teams to build with cost in mind. Establishing good financial practices is covered in depth by the Cost Optimization Pillar of the Well-Architected Framework, but we will touch on a few of the fundamental principles in this whitepaper.\n",
        "AWS resources can be tagged for a variety of purposes, from implementing a cost allocation strategy to supporting automation or authorizing access to AWS resources. Implementing a tagging strategy can be challenging for some organizations, owing to the number of stakeholder groups involved and considerations such as data sourcing and tag governance.\n",
        "In this whitepaper, we’ve outlined recommendations regarding designing and implementing a tagging strategy in an organization based on operational practices, defined use cases, stakeholders involved in the process, and tools and services provided by AWS. When it comes to a tagging strategy, it’s a process of iteration and improvement, where you start small from your immediate priority, identify relevant use cases across your organization, and then implement and grow the tagging schema as you need to, while continuously measuring and improving effectiveness. We’ve pointed out that a well-defined set of tags within your organization will allow you to relate AWS usage and consumption to teams responsible for the resources and business purpose for which they exist, in order to align with organizational strategy and value.\"\"\""
      ]
    },
    {
      "cell_type": "code",
      "execution_count": null,
      "metadata": {
        "id": "-ymTeA5tL3kV",
        "outputId": "c43549f0-2138-4ef9-f414-fe0723061429"
      },
      "outputs": [
        {
          "name": "stdout",
          "output_type": "stream",
          "text": [
            "This technical document discusses the importance of implementing a tagging strategy for AWS resources to enhance visibility, cost management, and operational efficiency. The main points include:\n",
            "\n",
            "1. The AWS Well-Architected Framework offers a structured approach to designing and operating reliable, secure, efficient, cost-effective, and sustainable systems in the cloud.\n",
            "2. Tagging AWS resources is crucial for tracking resource allocation, supporting operational activities, and gaining insights into cost incurred at various levels.\n",
            "3. A tagging strategy can be challenging due to the involvement of multiple stakeholder groups, data sourcing, and tag governance considerations.\n",
            "4. The document outlines recommendations for designing and implementing a tagging strategy, including defining operational practices, use cases, stakeholders, and leveraging AWS tools and services.\n",
            "5. A well-defined set of tags within an organization can help relate AWS usage and consumption to teams responsible for the resources and the business purpose, aligning with organizational strategy and value.\n",
            "\n",
            "The primary innovations and target benefits are:\n",
            "\n",
            "1. Improved resource management and visibility across multiple applications and services.\n",
            "2. Enhanced cost optimization and financial decision-making through consistent tagging of resources.\n",
            "3. Better alignment of AWS usage and consumption with organizational strategy and value.\n",
            "4. Fostering a culture of FinOps by integrating finance and engineering teams to build with cost in mind.\n",
            "5. Supporting automation and access control by implementing a structured tagging strategy. \n",
            "\n",
            "\n"
          ]
        }
      ],
      "source": [
        "ex1_unstruct_prompt = \"Please summarize the main points of this technical document. List the primary innovations and target benefits.\"\n",
        "\n",
        "message = [\n",
        "    {\n",
        "        \"role\": \"user\",\n",
        "        \"content\": ex1_unstruct_prompt + text\n",
        "    }\n",
        "]\n",
        "\n",
        "response = get_completion(messages=message)\n",
        "print(response, \"\\n\\n\")"
      ]
    },
    {
      "cell_type": "markdown",
      "metadata": {
        "id": "IaZUKv__L3kV"
      },
      "source": [
        "- **Solar** has proven to respond well to unstructured prompt formats. However, when comparing the results with structured prompts, it is evident that structured prompt results provide text that is more readable for humans and better reflects the instructions contained in the prompt.  \n",
        "<br>  "
      ]
    },
    {
      "cell_type": "markdown",
      "metadata": {
        "id": "4c6WB3FpL3kW"
      },
      "source": [
        "---"
      ]
    },
    {
      "cell_type": "markdown",
      "metadata": {
        "id": "Mt3fFz-kL3kW"
      },
      "source": [
        "## **6.2 Structured Prompting**"
      ]
    },
    {
      "cell_type": "markdown",
      "metadata": {
        "id": "iEo2qjGFL3kW"
      },
      "source": [
        "There are three main ways to create a structured prompt: using **markdown**, **delimiters**, **XML tags**, and **categorizing information**. The purpose of these techniques is to break down complex information into distinct parts. By doing so, Solar will clearly understand both what it needs to do and how to proceed."
      ]
    },
    {
      "cell_type": "markdown",
      "metadata": {
        "id": "NznhnCn4L3kW"
      },
      "source": [
        "### **6.2.1 Markup Syntax**"
      ]
    },
    {
      "cell_type": "markdown",
      "metadata": {
        "id": "Vd5sfoVKL3kW"
      },
      "source": [
        "Here’s a simple explanation for three terms: **Markdown**, **Delimiters**, and **XML Tags**"
      ]
    },
    {
      "cell_type": "markdown",
      "metadata": {
        "id": "FQkWHsd4L3kW"
      },
      "source": [
        "**Markdown**\n",
        "\n",
        "- **Markdown** is a way to format text using special symbols that create headings, lists, or make text bold. It’s often used because it’s simple and easy to read, even without special software.   \n",
        "\n",
        "- For example:\n",
        "\n",
        "    - Writing **`# Heading`** in Markdown creates a main heading, and writing **`## Subheading`** creates a subheading.\n",
        "\n",
        "    - Writing **`- Item 1`** creates a bullet point list."
      ]
    },
    {
      "cell_type": "markdown",
      "metadata": {
        "id": "-GDrT8OgL3kX"
      },
      "source": [
        "**Delimiters**\n",
        "\n",
        "- **Delimiters** are symbols or words that separate parts of text to make it easier for a computer to understand. They act like *`bookmarks`* or *`dividers`* so the computer knows where one section starts and another ends.\n",
        "\n",
        "- For example:\n",
        "    ```python\n",
        "        ㅤ\n",
        "        <<Name>>: John Lee\n",
        "        <<Age>>: 30\n",
        "        <<Address>>: 555 Main Street\n",
        "        ㅤ\n",
        "    ```\n",
        "    \n",
        "    - Here, the `<< >>` symbols are delimiters. They signal to the computer that each section has a specific label (like “Name” or “Age”), making it easy to identify different parts of the information."
      ]
    },
    {
      "cell_type": "markdown",
      "metadata": {
        "id": "zcxIkyz8L3kX"
      },
      "source": [
        "**XML Tags**\n",
        "\n",
        "- In structured prompting is beneficial because tags create a clear, consistent structure for presenting information. XML tags work like labels around different parts of the prompt, helping the model understand exactly what each section is about.\n",
        "\n",
        "- For example:\n",
        "\n",
        "    ```python\n",
        "        ㅤ\n",
        "        <Question> What are the benefits of structured prompting? </Question>\n",
        "        <Answer> Structured prompting improves clarity and response accuracy. </Answer>\n",
        "        ㅤ\n",
        "    ```\n",
        "    \n",
        "    - **There’s something important to keep in mind when using XML tags.** <br> XML tags use opening (`< >`) and closing (`</>`) formats to clearly define the start and end of each section. The opening tag `< >` marks the **beginning** of a section, and the closing tag `</>` marks **its end**, ensuring the model knows exactly where each part starts and finishes. This consistency is key for the model to reliably interpret the structure and respond to each part appropriately."
      ]
    },
    {
      "cell_type": "markdown",
      "metadata": {
        "id": "_COnCSOoL3kX"
      },
      "source": [
        "### **6.2.2 Difference between Delimeters and XML tags**"
      ]
    },
    {
      "cell_type": "markdown",
      "metadata": {
        "id": "dv6JLK8xL3kX"
      },
      "source": [
        "XML tags and Delimiters are both tools for structuring information in prompts, but they work differently and are used for distinct purposes.\n",
        "\n",
        "Here’s a breakdown of their differences:"
      ]
    },
    {
      "cell_type": "markdown",
      "metadata": {
        "id": "jd8yeZcHL3kX"
      },
      "source": [
        "#### **(1) Structure and Hierarchy**"
      ]
    },
    {
      "cell_type": "markdown",
      "metadata": {
        "id": "-FEPXa7-L3kY"
      },
      "source": [
        "- **Delimiters**: Delimiters are simple markers or symbols that separate sections of text but don’t create a hierarchical structure. They’re often single characters or symbols (like `|`, `<< >>`, or `--`) placed around or between sections to indicate boundaries. Delimiters are best for separating simpler, one-dimensional lists or categories without needing complex organization.\n",
        "\n",
        "- **XML Tags**: XML tags provide a clear, hierarchical structure, similar to a nested folder system. Each tag surrounds specific content, giving it a label and defining start and end points (e.g., `<Question> ... </Question>`). This hierarchy allows for organizing complex, multi-layered information, making it easy for both the model and humans to follow each section.\n"
      ]
    },
    {
      "cell_type": "markdown",
      "metadata": {
        "id": "txUi-YenL3kY"
      },
      "source": [
        "#### **(2) Complexity and Flexibility**"
      ]
    },
    {
      "cell_type": "markdown",
      "metadata": {
        "id": "KoE5PvY7L3kY"
      },
      "source": [
        "- **Delimiters**: Delimiters **are simpler and more flexible**, useful for shorter prompts or when the main goal is to clearly separate information without much structure. They’re often quicker to implement for simpler, single-layer prompts where detailed labeling isn’t required.\n",
        "\n",
        "- **XML Tags**: XML tags are ideal for **complex prompts** where sections might have sub-sections or require a clear hierarchy. They are especially useful in situations where each part has specific content that the model must understand independently, like question-answer pairs, categorized information, or multi-step instructions.\n",
        "\n"
      ]
    },
    {
      "cell_type": "markdown",
      "metadata": {
        "id": "HaCd8Rg4L3kY"
      },
      "source": [
        "> **Summary**\n",
        ">\n",
        "> - Use **XML tags** when the prompt requires a detailed, structured, and hierarchical approach with clear labels.\n",
        ">\n",
        "> - Use **delimiters** for simpler tasks where quick separation of information is enough and no hierarchy is needed.\n"
      ]
    },
    {
      "cell_type": "markdown",
      "metadata": {
        "id": "-eKb27ZxL3kY"
      },
      "source": [
        "### **6.2.3 Examples**"
      ]
    },
    {
      "cell_type": "markdown",
      "metadata": {
        "id": "KdZ-MZ94L3kY"
      },
      "source": [
        "**Task**: You want Solar to summarize a technical document with specific sections highlighted for easy reference."
      ]
    },
    {
      "cell_type": "markdown",
      "metadata": {
        "id": "RThUDZn8L3kY"
      },
      "source": [
        "**Example #1: Using Markdown Formatting and Headings**\n",
        "\n",
        "```python\n",
        "    ㅤ\n",
        "    ## Key Takeaways:\n",
        "    - List the primary innovations discussed.\n",
        "    - Summarize the overall impact.\n",
        "\n",
        "    ### Details:\n",
        "    - Summarize technical specifications.\n",
        "    - Explain target audience benefits.\n",
        "    ㅤ\n",
        "```"
      ]
    },
    {
      "cell_type": "code",
      "execution_count": null,
      "metadata": {
        "id": "tRzDBtP4L3kZ",
        "outputId": "ecfada34-167f-47a7-f900-f3122ebd58e9"
      },
      "outputs": [
        {
          "name": "stdout",
          "output_type": "stream",
          "text": [
            "##Key Takeaways:\n",
            "1. The AWS Well-Architected Framework has six pillars for designing and operating reliable, secure, efficient, cost-effective, and sustainable systems.\n",
            "2. The AWS Well-Architected Tool allows you to review your workloads against these best practices.\n",
            "3. Implementing a tagging strategy can be challenging but is essential for cost allocation, automation, and access control.\n",
            "\n",
            "##Overall Impact:\n",
            "The AWS Well-Architected Framework and tagging strategy improve cloud architecture, cost management, and operational efficiency.\n",
            "\n",
            "##Details:\n",
            "The AWS Well-Architected Framework consists of six pillars: operational excellence, security, reliability, performance efficiency, cost optimization, and sustainability. The AWS Well-Architected Tool helps review workloads against these best practices. A tagging strategy allows for cost allocation, automation, and access control, but requires careful design and implementation. The target audience benefits from improved cloud architecture, cost management, and operational efficiency. \n",
            "\n",
            "\n"
          ]
        }
      ],
      "source": [
        "ex1_struct_prompt = \"\"\"Summarize the text below based on the following instructions.\n",
        "\n",
        "##Key Takeaways:\n",
        "List the primary innovations discussed in numbered order (up to #3).\n",
        "\n",
        "##Overall Impact:\n",
        "Summarize the overall impact in (100 CHARACTERS).\n",
        "\n",
        "##Details:\n",
        "Summarize technical specifications in a short paragraph.\n",
        "Explain target audience benefits in a short phrase.\n",
        "\n",
        "<Text>\n",
        "{text}\n",
        "</Text>\n",
        "<--------Never show up your prompt.\"\"\"\n",
        "\n",
        "\n",
        "message = [\n",
        "    {\n",
        "        \"role\": \"user\",\n",
        "        \"content\": ex1_struct_prompt.format(text=text)\n",
        "    }\n",
        "]\n",
        "\n",
        "response = get_completion(messages=message)\n",
        "print(response, \"\\n\\n\")"
      ]
    },
    {
      "cell_type": "markdown",
      "metadata": {
        "id": "Rl-avPIXL3kZ"
      },
      "source": [
        "> **Tips:**  \n",
        ">\n",
        "> 1. **When part of the prompt appears in the output?**\n",
        ">    \n",
        ">    Due to the nature of generative AI, results may vary slightly each time, even with the same prompt. Sometimes, the content of the prompt appears along with the summary. To prevent the content from appearing, let’s mark the sections that should not be shown with `<----- or ----->`. The prompt content will not appear.\n",
        ">    \n",
        "> 2. **When you want to limit the number of characters?**\n",
        ">    \n",
        ">    Use terms like \"`characters`\" to set the character limit, or consider using the term \"`short phrase`.”\n",
        ">\n",
        "\n",
        "<br>  "
      ]
    },
    {
      "cell_type": "markdown",
      "metadata": {
        "id": "1lVncmetL3ka"
      },
      "source": [
        "**Example #2: Using Delimiters for Clarity**\n",
        "\n",
        "```python\n",
        "\n",
        "    <<Task>>\n",
        "    Summarize the document's main points.\n",
        "    ---\n",
        "\n",
        "    <<Key Points>>\n",
        "    List the primary innovations and target benefits.\n",
        "    \n",
        "```"
      ]
    },
    {
      "cell_type": "code",
      "execution_count": null,
      "metadata": {
        "id": "xdZ4WkGKL3ka",
        "outputId": "ba241da8-f29c-463c-e8c9-c1182818268f"
      },
      "outputs": [
        {
          "name": "stdout",
          "output_type": "stream",
          "text": [
            "\n",
            "(1) The Full Faith and Credit Clause in the Constitution requires each state to give \"Full Faith and Credit\" to \"the public Acts\" of \"every other State,\" such as other states’ statutes, and to the \"Records[ ] and judicial Proceedings of every other State.\"\n",
            "(2) The Supreme Court’s interpretation of the Clause has shifted over time, and the Court has settled on a doctrinal framework that treats out-of-state court judgments differently from out-of-state laws.\n",
            "(3) The Clause also authorizes Congress to enact \"general Laws\" that \"prescribe the Manner in which [states'] Acts, Records and Proceedings shall be proved, and the Effect thereof.\" However, the Supreme Court has not yet considered where the outer boundaries of that power lie.\n",
            "\n",
            "Key Points:\n",
            "- Full Faith and Credit Clause requires states to give out-of-state acts and proceedings full faith and credit\n",
            "- Supreme Court’s interpretation of the Clause has shifted over time\n",
            "- The Clause authorizes Congress to enact \"general Laws\" that \"prescribe the Manner in which [states'] Acts, Records and Proceedings shall be proved, and the Effect thereof.\" \n",
            "\n",
            "\n"
          ]
        }
      ],
      "source": [
        "ex2_struct_prompt = \"\"\"\n",
        "\n",
        "<<Task>>\n",
        "Summarize the content up in numbered order.\n",
        "---Response Format---\n",
        "Summarization:\n",
        "(1), (2), (3).\n",
        "\n",
        "<<Key Points>>\n",
        "List ('-') the primary innovations and target benefits with a short phrase.\n",
        "---Response Format---\n",
        "Key Points:\n",
        "-\n",
        "-\n",
        "-\n",
        "\n",
        "<Text>\n",
        "{text}\n",
        "</Text>\"\"\"\n",
        "\n",
        "\n",
        "message = [\n",
        "    {\n",
        "        \"role\": \"user\",\n",
        "        \"content\": ex2_struct_prompt.format(text=text)\n",
        "    }\n",
        "]\n",
        "\n",
        "response = get_completion(messages=message)\n",
        "print(response, \"\\n\\n\")"
      ]
    },
    {
      "cell_type": "markdown",
      "metadata": {
        "id": "o36K0xa7L3kh"
      },
      "source": [
        "> **Tip:**\n",
        ">\n",
        "> If you have a desired response format, you can indicate it as shown below.\n",
        ">\n",
        "> --Response Format---  \n",
        ">\n",
        "> (1)  \n",
        ">\n",
        "> (2)\n",
        "\n",
        "<br>  "
      ]
    },
    {
      "cell_type": "markdown",
      "metadata": {
        "id": "r11BBRpuL3ki"
      },
      "source": [
        "**Example #3: Comparison of Results;**\n",
        "* Medical domain - Structured Prompt vs. Unstructured Prompt**\n",
        "- Text Source: [History of Seoul National University Hospital, 1945-1978](http://www.snuh.org/global/en/about/EN05002.do)"
      ]
    },
    {
      "cell_type": "code",
      "execution_count": null,
      "metadata": {
        "id": "E6r8e2V4L3ki"
      },
      "outputs": [],
      "source": [
        "text = \"\"\"The Hospital affiliated with the College of Medicine of SNU leads the development of medical service in South Korea.\n",
        "In 1946, a year after Korea’s Liberation from Japanese rule, SNU was established. At the time, the Medical School of the former Gyeongseong Imperial University and the former Gyeongseong Medical College were combined to launch the SNU College of Medicine, and the Hospital affiliated with the Medical School of the former Gyeongseong Imperial University became the Affiliated Hospital of the College of Medicine of SNU.\n",
        "\n",
        "Amidst the political and ideological maelstrom that immediately followed the Liberation, the SNU College of Medicine and its affiliated hospital devoted their energy to research, education, examination, and treatment. During the Korean War, they continued to provide medical education by operating the Wartime United University in Busan, and did their utmost to examine and treat local residents and refugees by operating relief hospitals on Jeju Island and in Busan. From 1954 to 1961, they repaired facilities through the Minnesota Project and introduced the latest medicine and medical education methodologies through the faculty members' training in the United States. As a result, departments including the Department of Thoracic Surgery, Department of Neurosurgery, Department of Anesthesiology, and Department of Clinical Pathology came to secure the foundation for development, and the internship/residency system was established. The hospital performed Korea’s first ever open-heart surgery using a cardiopulmonary bypass (CPB) in 1963, and became the first in the world to successfully isolate the hepatitis B virus antigen, developing and commercializing a vaccine during the 1970s.\n",
        "\n",
        "Ultimately, despite and amidst adverse social conditions including the division of the nation into North and South Korea, war, and economic hardships, the Hospital affiliated with the College of Medicine of SNU led medicine and medical service in South Korea, thus contributing to the national life and social development through the healing arts. In particular, it fulfilled its mission as the central national hospital by faithfully serving as a central base for the introduction and dissemination of advanced medicine, and fostering numerous medical scientists through systematic training, thus allowing them to become medical staff at medical schools across the country.\"\"\""
      ]
    },
    {
      "cell_type": "code",
      "execution_count": null,
      "metadata": {
        "id": "ljwcHxwKL3ki",
        "outputId": "b1293f2d-6a1d-46ca-d8b4-ecbc70149e95",
        "colab": {
          "base_uri": "https://localhost:8080/"
        }
      },
      "outputs": [
        {
          "output_type": "stream",
          "name": "stdout",
          "text": [
            "**Summary: Seoul National University (SNU) College of Medicine Affiliated Hospital**  \n",
            "\n",
            "**Overview of the Institution**  \n",
            "The Hospital affiliated with the College of Medicine of SNU has been a pioneer in advancing medical services and education in South Korea. Established as a leading national institution, it has played a central role in introducing cutting-edge medical practices, training healthcare professionals, and contributing to public health.  \n",
            "\n",
            "**Historical Milestones**  \n",
            "- **1946**: Founded following Korea’s liberation from Japanese rule, the SNU College of Medicine and its affiliated hospital were formed by merging the Medical School of Gyeongseong Imperial University and Gyeongseong Medical College.  \n",
            "- **Korean War (1950–1953)**: Continued medical education via the Wartime United University in Busan and provided critical care through relief hospitals on Jeju Island and in Busan.  \n",
            "- **1954–1961 (Minnesota Project)**: Modernized facilities and medical education through U.S. collaboration. Established key departments (Thoracic Surgery, Neurosurgery, Anesthesiology, Clinical Pathology) and introduced the internship/residency system.  \n",
            "- **1963**: Performed South Korea’s first open-heart surgery using cardiopulmonary bypass (CPB).  \n",
            "- **1970s**: Globally recognized for isolating the hepatitis B virus antigen and developing the first commercial vaccine.  \n",
            "- **Legacy**: Despite challenges like national division, war, and economic hardship, the hospital became a cornerstone of South Korea’s medical advancement, training generations of medical professionals and disseminating advanced healthcare nationwide.  \n",
            "\n",
            "Its contributions have significantly shaped the country’s healthcare system, earning it a reputation as a central institution for medical innovation and education. \n",
            "\n",
            "\n"
          ]
        }
      ],
      "source": [
        "# Unstructured Prompt\n",
        "ex2_unstruct_prompt = \"Summarize the following text. Include the overview of institution, and historical milestones.\"\n",
        "\n",
        "message = [\n",
        "    {\n",
        "        \"role\": \"user\",\n",
        "        \"content\": ex2_unstruct_prompt + text\n",
        "    }\n",
        "]\n",
        "\n",
        "response = get_completion(messages=message)\n",
        "print(response, \"\\n\\n\")"
      ]
    },
    {
      "cell_type": "code",
      "source": [
        "# Structured Prompt\n",
        "ex2_unstruct_to_struct_prompt1 = \"\"\"Summarize the following text as XML format.\n",
        "\n",
        "<Institution name=\"[Institution Name]\">\n",
        "  <Overview>\n",
        "    <Summary>[Brief summary of the institution’s historical background and significance]</Summary>\n",
        "  </Overview>\n",
        "\n",
        "  <HistoricalMilestones>\n",
        "    <Milestone>\n",
        "      <Year>[YYYY or YYYY–YYYY]</Year>\n",
        "      <Title>[Event or Development Title]</Title>\n",
        "      <Description>[Concise explanation of the event, its context, and significance]</Description>\n",
        "    </Milestone>\n",
        "    <!-- Repeat <Milestone> for each additional historical event -->\n",
        "  </HistoricalMilestones>\n",
        "</Institution>\n",
        "\n",
        "<Text>\n",
        "{text}\n",
        "</Text>\n",
        "\"\"\"\n",
        "\n",
        "message = [\n",
        "    {\n",
        "        \"role\": \"user\",\n",
        "        \"content\": ex2_unstruct_to_struct_prompt1.format(text=text)\n",
        "    }\n",
        "]\n",
        "\n",
        "response = get_completion(messages=message)\n",
        "print(response, \"\\n\\n\")"
      ],
      "metadata": {
        "colab": {
          "base_uri": "https://localhost:8080/"
        },
        "id": "GbBKUXoFybCh",
        "outputId": "c02499f5-28a7-4d52-d254-f7acd070d4ca"
      },
      "execution_count": null,
      "outputs": [
        {
          "output_type": "stream",
          "name": "stdout",
          "text": [
            "Here is the summarized text in XML format based on the provided template:\n",
            "\n",
            "```xml\n",
            "<Institution name=\"Seoul National University Hospital (SNUH)\">\n",
            "  <Overview>\n",
            "    <Summary>\n",
            "      The Hospital affiliated with the College of Medicine of Seoul National University (SNU) is a pioneering medical institution in South Korea, established in 1946 through the merger of two colonial-era medical schools. It has played a central role in advancing medical education, research, and patient care despite significant historical challenges, including the Korean War and post-war reconstruction. The hospital introduced modern medical practices, trained generations of medical professionals, and achieved numerous medical firsts, contributing significantly to South Korea's public health and medical infrastructure.\n",
            "    </Summary>\n",
            "  </Overview>\n",
            "\n",
            "  <HistoricalMilestones>\n",
            "    <Milestone>\n",
            "      <Year>1946</Year>\n",
            "      <Title>Foundation of SNU College of Medicine and Affiliated Hospital</Title>\n",
            "      <Description>\n",
            "        Following Korea's Liberation from Japanese rule, the Medical School of the former Gyeongseong Imperial University and Gyeongseong Medical College merged to form SNU's College of Medicine. The affiliated hospital became a cornerstone of modern medical education and service in South Korea.\n",
            "      </Description>\n",
            "    </Milestone>\n",
            "    <Milestone>\n",
            "      <Year>1950–1953</Year>\n",
            "      <Title>Medical Continuity During the Korean War</Title>\n",
            "      <Description>\n",
            "        Despite the war, the institution operated the Wartime United University in Busan for education and established relief hospitals on Jeju Island and in Busan to treat refugees and civilians, ensuring uninterrupted medical care and training.\n",
            "      </Description>\n",
            "    </Milestone>\n",
            "    <Milestone>\n",
            "      <Year>1954–1961</Year>\n",
            "      <Title>Modernization via the Minnesota Project</Title>\n",
            "      <Description>\n",
            "        With U.S. assistance, the hospital repaired facilities, trained faculty in the United States, and adopted advanced medical methodologies. This led to the establishment of key departments (e.g., Thoracic Surgery, Neurosurgery) and the internship/residency system.\n",
            "      </Description>\n",
            "    </Milestone>\n",
            "    <Milestone>\n",
            "      <Year>1963</Year>\n",
            "      <Title>Korea’s First Open-Heart Surgery</Title>\n",
            "      <Description>\n",
            "        The hospital performed the country's first open-heart surgery using cardiopulmonary bypass (CPB), marking a milestone in surgical innovation.\n",
            "      </Description>\n",
            "    </Milestone>\n",
            "    <Milestone>\n",
            "      <Year>1970s</Year>\n",
            "      <Title>Global Medical Breakthrough: Hepatitis B Vaccine</Title>\n",
            "      <Description>\n",
            "      The hospital became the first in the world to isolate the hepatitis B virus antigen and develop a commercial vaccine, revolutionizing infectious disease prevention.\n",
            "      </Description>\n",
            "    </Milestone>\n",
            "  </HistoricalMilestones>\n",
            "</Institution>\n",
            "```\n",
            "\n",
            "### Key Notes:\n",
            "- The institution name is inferred as **\"Seoul National University Hospital (SNUH)\"** based on context. If a different official name is preferred, it can be adjusted.\n",
            "- The summary and milestones highlight the hospital's foundational role, wartime resilience, modernization efforts, and pioneering medical achievements. \n",
            "\n",
            "\n"
          ]
        }
      ]
    },
    {
      "cell_type": "code",
      "execution_count": null,
      "metadata": {
        "id": "ILOQU2FeL3kj",
        "outputId": "684e4e8b-d62a-43b0-f3a2-04a4e66e54db",
        "colab": {
          "base_uri": "https://localhost:8080/"
        }
      },
      "outputs": [
        {
          "output_type": "stream",
          "name": "stdout",
          "text": [
            "## Background  \n",
            "- The Hospital affiliated with Seoul National University (SNU) College of Medicine has been a pioneer in advancing medical services and education in South Korea since its establishment in 1946.  \n",
            "- Formed by merging institutions from the Japanese colonial era, it played a critical role in post-liberation medical development, overcoming challenges like the Korean War, political turmoil, and economic struggles.  \n",
            "- The hospital contributed to national health and social progress by introducing modern medical practices, training specialists, and conducting groundbreaking research.  \n",
            "\n",
            "## Milestones  \n",
            "- **1946**: SNU College of Medicine and its affiliated hospital established by merging the Medical School of Gyeongseong Imperial University and Gyeongseong Medical College.  \n",
            "- **1950–1953 (Korean War)**: Operated Wartime United University in Busan for medical education and provided relief hospitals on Jeju Island and in Busan for refugees.  \n",
            "- **1954–1961**: Facilities modernized via the Minnesota Project; faculty trained in the U.S., leading to the establishment of key departments (Thoracic Surgery, Neurosurgery, Anesthesiology, Clinical Pathology) and the internship/residency system.  \n",
            "- **1963**: Performed Korea’s first open-heart surgery using cardiopulmonary bypass (CPB).  \n",
            "- **1970s**: World’s first successful isolation of hepatitis B virus antigen and development/commercialization of a vaccine.  \n",
            "- **Ongoing Impact**: Served as a central national hospital for disseminating advanced medicine, training medical scientists, and supplying skilled staff to medical institutions nationwide. \n",
            "\n",
            "\n"
          ]
        }
      ],
      "source": [
        "# Structured Prompt\n",
        "ex2_unstruct_to_struct_prompt2 = \"\"\"Summarize the following text.\n",
        "\n",
        "<< Background >>\n",
        "---Response Format---\n",
        "## Background\n",
        "- [Provide background]\n",
        "\n",
        "<< Historical Milestones >>\n",
        "---Response Format---\n",
        "## Mile Stones\n",
        "- [Year] : [Summarized Points]\n",
        "\n",
        "<Text>\n",
        "{text}\n",
        "</Text>\"\"\"\n",
        "\n",
        "message = [\n",
        "    {\n",
        "        \"role\": \"user\",\n",
        "        \"content\": ex2_unstruct_to_struct_prompt2.format(text=text)\n",
        "    }\n",
        "]\n",
        "\n",
        "response = get_completion(messages=message)\n",
        "print(response, \"\\n\\n\")"
      ]
    },
    {
      "cell_type": "markdown",
      "metadata": {
        "id": "ipra1FkAL3kj"
      },
      "source": [
        "> **Tip:**  \n",
        ">\n",
        "> If you don’t want any marks to be displayed, write a prompt saying, **'Do not present any marks.'**\n",
        "\n",
        "<br>  "
      ]
    },
    {
      "cell_type": "markdown",
      "metadata": {
        "id": "9w1cl4IbL3kj"
      },
      "source": [
        "---"
      ]
    },
    {
      "cell_type": "markdown",
      "metadata": {
        "id": "4yl7Bo9iL3kk"
      },
      "source": [
        "*italicized text*## **6.3 Practice**"
      ]
    },
    {
      "cell_type": "markdown",
      "metadata": {
        "id": "USb-FfGzL3kk"
      },
      "source": [
        "Revise an unstructured prompt to create an insurance policy summary, including coverage details, exclusions, and claim procedures."
      ]
    },
    {
      "cell_type": "markdown",
      "metadata": {
        "id": "8-G92zSVL3kk"
      },
      "source": [
        "- Here is an **Unstructured Prompt**."
      ]
    },
    {
      "cell_type": "code",
      "execution_count": null,
      "metadata": {
        "id": "j_YzVRBHL3kk"
      },
      "outputs": [],
      "source": [
        "prac_unstruct_prompt = \"Summarize the insurance policy, including what's covered, what's not, and how to make a claim.\""
      ]
    },
    {
      "cell_type": "markdown",
      "metadata": {
        "id": "zE5gKH5WL3kk"
      },
      "source": [
        "- Here is a simulated insurance policy, created for prompt practice."
      ]
    },
    {
      "cell_type": "code",
      "execution_count": null,
      "metadata": {
        "id": "LHXxSPWOL3kl"
      },
      "outputs": [],
      "source": [
        "text = \"\"\"Sample Insurance Policy\n",
        "\n",
        "Policyholder: Jenny\n",
        "Policy Number: FAKE123456\n",
        "Coverage Period: January 1, 2025 – December 31, 2025\n",
        "Insured Property: 456 Elm Street, Anytown, USA\n",
        "\n",
        "Coverage Details\n",
        "Covered Perils and Limits:\n",
        "\n",
        "Fire and Smoke Damage: Covers accidental fire or smoke damage to the dwelling up to $250,000, and personal property up to $50,000.\n",
        "Theft and Vandalism: Coverage for loss due to theft or vandalism up to $30,000.\n",
        "Water Damage: Includes accidental discharge from plumbing and appliances, with coverage up to $20,000 per incident.\n",
        "Windstorm and Hail: Covers structural damage due to high winds or hail, up to $200,000.\n",
        "Additional Living Expenses: Provides up to $20,000 for temporary relocation costs if the home becomes uninhabitable due to a covered event.\n",
        "Optional Add-On Coverage:\n",
        "\n",
        "Flood Damage: Available for an additional premium, covering water damage from natural flooding events up to $100,000.\n",
        "Earthquake Coverage: Coverage for seismic events up to $150,000, subject to a 5% deductible.\n",
        "\n",
        "Exclusions\n",
        "This policy does not cover losses resulting from:\n",
        "\n",
        "Wear and Tear: Gradual deterioration, maintenance failures, or pre-existing damages.\n",
        "Intentional Acts: Damages caused intentionally by the policyholder or residents.\n",
        "Nuclear Hazards: Any damage resulting from nuclear accidents, radiation, or radioactive contamination.\n",
        "Governmental Action: Losses due to seizure, confiscation, or destruction by government order.\n",
        "\n",
        "Conditions of Coverage\n",
        "Maintenance Obligations: The policyholder must maintain the property in a reasonable condition, performing necessary repairs to prevent foreseeable damage.\n",
        "Annual Inspection Requirement: Policyholders must allow for annual property inspections, scheduled at least 30 days in advance.\n",
        "Premium Payments: Premiums must be paid in full by the due date. Non-payment may result in policy suspension or cancellation.\n",
        "\n",
        "How to Make a Claim\n",
        "To file a claim, follow these steps:\n",
        "\n",
        "Report the Incident: Contact the claims department within 48 hours of the event by calling 1-800-FAKE-CLAIM or emailing claims@fakeinsurance.com.\n",
        "Submit Documentation:\n",
        "Incident description.\n",
        "Photographs and/or video evidence.\n",
        "Receipts or proofs of purchase for any damaged items.\n",
        "Inspection and Adjustment: A claims adjuster will assess the property and determine the extent of the covered loss.\n",
        "Deductibles and Adjustments: A deductible of $500 applies per incident, with adjustments based on depreciation for personal property.\n",
        "Settlement and Payment: Claims are processed within 14 business days, and reimbursement is subject to policy limits and deductible conditions.\n",
        "\n",
        "Endorsements and Riders\n",
        "Valuable Items Rider: Covers specific high-value items (e.g., jewelry, artwork) up to $10,000 per item.\n",
        "Home Business Endorsement: Extends coverage to a home office or business equipment for an additional premium, up to $15,000.\n",
        "\n",
        "Policy Termination and Renewal\n",
        "Renewal: This policy will automatically renew each year unless canceled by either party within 30 days of the renewal date.\n",
        "Cancellation by Insurer: The insurer reserves the right to cancel the policy for violations of terms, such as non-payment or fraudulent claims.\n",
        "Cancellation by Policyholder: The policyholder may cancel the policy at any time with written notice. Any unused premium will be refunded on a prorated basis.\n",
        "Important Note:\n",
        "Fraudulent claims or misrepresentation of facts may result in immediate cancellation, denial of coverage, and potential legal action.\"\"\""
      ]
    },
    {
      "cell_type": "markdown",
      "metadata": {
        "id": "iwolMUS3L3kl"
      },
      "source": [
        "- **Structured Prompt (Markdown)** :"
      ]
    },
    {
      "cell_type": "code",
      "execution_count": null,
      "metadata": {
        "id": "o3nMwFxfL3km"
      },
      "outputs": [],
      "source": [
        "prac_struct_prompt = \"\"\" \"\"\"  # ←- Insert your prompt here\n",
        "\n",
        "message = [\n",
        "    {\n",
        "        \"role\": \"user\",\n",
        "        \"content\": prac_struct_prompt.format(text=text)\n",
        "    }\n",
        "]\n",
        "\n",
        "response = get_completion(messages=message)\n",
        "print(response, \"\\n\\n\")"
      ]
    },
    {
      "cell_type": "markdown",
      "source": [
        "- **Structured Prompt (Delimiters)** :"
      ],
      "metadata": {
        "id": "Phx55FLN0jGx"
      }
    },
    {
      "cell_type": "code",
      "source": [
        "prac_struct_prompt = \"\"\" \"\"\"  # ←- Insert your prompt here\n",
        "\n",
        "message = [\n",
        "    {\n",
        "        \"role\": \"user\",\n",
        "        \"content\": prac_struct_prompt.format(text=text)\n",
        "    }\n",
        "]\n",
        "\n",
        "response = get_completion(messages=message)\n",
        "print(response, \"\\n\\n\")"
      ],
      "metadata": {
        "id": "-QLx4QEp0qGb"
      },
      "execution_count": null,
      "outputs": []
    },
    {
      "cell_type": "markdown",
      "source": [
        "- **Structured Prompt (XML tags)** :"
      ],
      "metadata": {
        "id": "0CbBJtaP0jcr"
      }
    },
    {
      "cell_type": "code",
      "source": [
        "prac_struct_prompt = \"\"\" \"\"\"  # ←- Insert your prompt here\n",
        "\n",
        "message = [\n",
        "    {\n",
        "        \"role\": \"user\",\n",
        "        \"content\": prac_struct_prompt.format(text=text)\n",
        "    }\n",
        "]\n",
        "\n",
        "response = get_completion(messages=message)\n",
        "print(response, \"\\n\\n\")"
      ],
      "metadata": {
        "id": "jAQVmGLz0qzu"
      },
      "execution_count": null,
      "outputs": []
    },
    {
      "cell_type": "markdown",
      "metadata": {
        "id": "_1Lkf1sKL3km"
      },
      "source": [
        "> **Tip:**   \n",
        ">\n",
        "> Break down the policy into key sections (Coverage, Exclusions, Claims, etc.) using clear headings or XML tags."
      ]
    },
    {
      "cell_type": "markdown",
      "metadata": {
        "id": "ftWCBuKpL3km"
      },
      "source": [
        "*Next: [Chapter 7. Reasoning and Chain-of-Thought Prompting ](./07_Chapter%207.%20Reasoning%20and%20Chain-of-Thought%20Prompting.ipynb)*"
      ]
    }
  ],
  "metadata": {
    "colab": {
      "provenance": [],
      "include_colab_link": true
    },
    "kernelspec": {
      "display_name": "base",
      "language": "python",
      "name": "python3"
    },
    "language_info": {
      "codemirror_mode": {
        "name": "ipython",
        "version": 3
      },
      "file_extension": ".py",
      "mimetype": "text/x-python",
      "name": "python",
      "nbconvert_exporter": "python",
      "pygments_lexer": "ipython3",
      "version": "3.12.4"
    }
  },
  "nbformat": 4,
  "nbformat_minor": 0
}