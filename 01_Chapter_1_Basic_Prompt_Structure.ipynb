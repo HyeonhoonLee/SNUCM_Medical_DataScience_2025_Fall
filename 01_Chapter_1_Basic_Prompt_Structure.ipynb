{
  "cells": [
    {
      "cell_type": "markdown",
      "metadata": {
        "id": "view-in-github",
        "colab_type": "text"
      },
      "source": [
        "<a href=\"https://colab.research.google.com/github/HyeonhoonLee/SNUCM_Medical_DataScience_2025_Fall/blob/main/01_Chapter_1_Basic_Prompt_Structure.ipynb\" target=\"_parent\"><img src=\"https://colab.research.google.com/assets/colab-badge.svg\" alt=\"Open In Colab\"/></a>"
      ]
    },
    {
      "cell_type": "markdown",
      "metadata": {
        "id": "H4OQOJus7C0h"
      },
      "source": [
        "# **Chapter 1. Basic Prompt Structure**"
      ]
    },
    {
      "cell_type": "markdown",
      "metadata": {
        "id": "LbASudja7C0i"
      },
      "source": [
        "Upstage offers various types of APIs, including Chat, Text Embedding, Translation, Grounding Check, Layout Analysis, Key Information Extraction, and Document Processing. In this book, we will exclusively focus on using the `Chat API`.\n",
        "\n",
        "For more information about the APIs, please refer to the following [link](https://github.com/UpstageAI/cookbook?tab=readme-ov-file#api-list)."
      ]
    },
    {
      "cell_type": "markdown",
      "metadata": {
        "id": "FbvqPcHk7C0i"
      },
      "source": [
        "## **Table of Contents**\n",
        "- Use `Ctrl + F` (Windows) or `Cmd + F` (Mac) to locate specific sections by title."
      ]
    },
    {
      "cell_type": "markdown",
      "metadata": {
        "id": "904zNjr_7C0j"
      },
      "source": [
        "- **1.1 `Chat API`**  \n",
        "\n",
        "\n",
        "- **1.2 Understanding Parameters**  \n",
        "\n",
        "    - 1.2.1 Paramters  \n",
        "\n",
        "    - 1.2.2 Examples  \n",
        "\n",
        "\n",
        "- **1.3 Understanding Structure**  \n",
        "\n",
        "    - 1.3.1 Input Structure  \n",
        "\n",
        "    - 1.3.2 Example  \n",
        "\n",
        "\n",
        "- **1.4 Understanding System Prompt**\n",
        "\n",
        "    - 1.4.1 System Prompt  \n",
        "\n",
        "    - 1.4.2 Examples  \n",
        "\n",
        "    - 1.4.3 Practice  \n"
      ]
    },
    {
      "cell_type": "markdown",
      "metadata": {
        "id": "1oUbxxTY7C0j"
      },
      "source": [
        "---"
      ]
    },
    {
      "cell_type": "markdown",
      "metadata": {
        "id": "Jx0yI2UH7C0j"
      },
      "source": [
        "## **1.1 `Chat API`**"
      ]
    },
    {
      "cell_type": "markdown",
      "metadata": {
        "id": "ax6xAD6t7C0j"
      },
      "source": [
        "The Following is a standard API call format used to interact with Upstage’s API for generating chat completions."
      ]
    },
    {
      "cell_type": "code",
      "execution_count": null,
      "metadata": {
        "colab": {
          "base_uri": "https://localhost:8080/"
        },
        "id": "C5VEDP_g7C0k",
        "outputId": "7e978e22-cf8c-4d6f-aa9d-6fb53b96fe70"
      },
      "outputs": [
        {
          "output_type": "stream",
          "name": "stdout",
          "text": [
            "no stored variable or alias UPSTAGE_API_KEY\n",
            "Success!\n",
            "\n",
            " 의료인공지능(AI for Healthcare) 전문가가 되기 위해서는 **의료 지식, 인공지능 기술, 데이터 과학, 규제 이해**를 종합적으로 습득해야 합니다. 아래는 4개년 단계별 학습 로드맵으로, 학부/대학원 과정, 독학, 실무 경험을 모두 고려한 계획입니다.\n",
            "\n",
            "---\n",
            "\n",
            "### **1년차: 기초 역량 구축**  \n",
            "**목표**: 의료 분야 이해 + AI/데이터 과학 기초 마스터  \n",
            "- **의료 지식**  \n",
            "  - 기초 의학 (해부학, 생리학, 병리학 온라인 강의: Coursera \"Anatomy\", edX \"Introduction to Biology\")  \n",
            "  - 의료 데이터 유형 학습 (EMR, 영상의학(DICOM), 유전체 데이터 등)  \n",
            "- **AI/프로그래밍**  \n",
            "  - Python 필수 라이브러리: NumPy, Pandas, Matplotlib  \n",
            "  - 머신러닝 기초 (scikit-learn): 회귀, 분류, 클러스터링  \n",
            "  - 딥러닝 입문 (TensorFlow/PyTorch): CNN(기본 이미지 분류), RNN(의료 시계열 데이터)  \n",
            "- **데이터 과학**  \n",
            "  - SQL (의료 데이터베이스 쿼리)  \n",
            "  - 통계학 (베이지안 확률, 생존 분석 등 의료 연구 통계)  \n",
            "- **프로젝트**  \n",
            "  - 공공 의료 데이터셋(Kaggle: [NIH Chest X-ray](https://www.kaggle.com/datasets/nih-chest-xrays/data))으로 간단한 분류 모델 구현  \n",
            "  - Fast.ai나 Kaggle 튜토리얼 따라 하기  \n",
            "\n",
            "---\n",
            "\n",
            "### **2년차: 심화 기술 + 의료 특화 적용**  \n",
            "**목표**: 의료 AI 논문 이해 + 고급 모델링  \n",
            "- **의료 AI 심화**  \n",
            "  - 의료 영상 분석 (U-Net, Transformer 기반 모델)  \n",
            "  - NLP for Healthcare: 임상 노트 분석 (BERT, BioBERT)  \n",
            "  - 시계열 데이터 처리 (LSTM, TCN for 환자 모니터링)  \n",
            "- **연구 방법론**  \n",
            "  - 논문 리뷰: **arXiv** 또는 **Nature Medicine**에서 최신 연구 분석  \n",
            "  - 재현 연구: GitHub에 공개된 의료 AI 코드 포크 후 실험 (예: MONAI 라이브러리)  \n",
            "- **데이터 처리**  \n",
            "  - DICOM 데이터 처리 (PyDicom, OHIF Viewer)  \n",
            "  - 의료 데이터 전처리 (불균형 데이터 처리, 증강 기법)  \n",
            "- **인증/코스**  \n",
            "  - Coursera \"Deep Learning for Healthcare\" (deeplearning.ai)  \n",
            "  - Google Healthcare AI 전문 인증서  \n",
            "\n",
            "---\n",
            "\n",
            "### **3년차: 실무 경험 + 규제 이해**  \n",
            "**목표**: 실제 의료 환경 적용 + 윤리적/법적 이슈 학습  \n",
            "- **실무 프로젝트**  \n",
            "  - 병원/연구기관과 협업 (인턴십 또는 봉사활동)  \n",
            "  - EHR 데이터 활용 예측 모델 개발 (Apache Spark + FHIR 표준)  \n",
            "  - 클라우드 기반 의료 AI (AWS HealthLake, Google Healthcare API)  \n",
            "- **규제/윤리**  \n",
            "  - FDA/EMA의 AI 의료기기 승인 프로세스 학습 (SaMD, FDA AI/ML Action Plan)  \n",
            "  - HIPAA, GDPR 등 의료 데이터 보안 규정  \n",
            "- **학술 활동**  \n",
            "  - 학회 참여 (MICCAI, MLHC) 또는 논문 작성 (저자로 참여)  \n",
            "- **고급 기술**  \n",
            "  - Explainable AI (XAI): SHAP, LIME for 의료 모델 해석  \n",
            "  - Federated Learning (의료 데이터 프라이버시 보장)  \n",
            "\n",
            "---\n",
            "\n",
            "### **4년차: 전문성 강화 + 네트워킹**  \n",
            "**목표**: 리더십 발휘 + 산업계 연결  \n",
            "- **고급 연구/개발**  \n",
            "  - 논문 1저자 또는 주요 개발자 역할 (의료 AI 오픈소스 프로젝트 기여)  \n",
            "  - 멀티모달 모델 (영상 + 유전체 + 임상 데이터 통합)  \n",
            "- **커리어 준비**  \n",
            "  - LinkedIn 프로필 최적화 (의료 AI 프로젝트 강조)  \n",
            "  - 의료 AI 스타트업/대기업 채용 공고 분석 (예: NVIDIA Clara, PathAI)  \n",
            "- **커뮤니티 활동**  \n",
            "  - 의료 AI 컨퍼런스 발표 또는 워크숍 주최  \n",
            "  - GitHub에 포트폴리오 공개 (예: [Medical-Zoo](https://github.com/MKDoc/medical-zoo))  \n",
            "- **추가 인증**  \n",
            "  - CLINICAL DATA SCIENCE (CDS) 인증 (DAMA)  \n",
            "  - AWS Certified Healthcare Data Analytics  \n",
            "\n",
            "---\n",
            "\n",
            "### **추천 리소스**  \n",
            "- **서적**:  \n",
            "  - *\"Deep Learning for Biomedical Data\"* (Oxford Univ Press)  \n",
            "  - *\"Machine Learning for Healthcare\"* (MIT Press)  \n",
            "- **커뮤니티**:  \n",
            "  - [Medical AI on Reddit](https://www.reddit.com/r/MedicalAI/)  \n",
            "  - Kaggle Medical Imaging Competition  \n",
            "- **도구**:  \n",
            "  - MONAI (의료 영상 AI 프레임워크), PyHealth (의료 시계열 분석)  \n",
            "\n",
            "---\n",
            "\n",
            "### **주의사항**  \n",
            "- **의료 도메인 지식**은 지속적으로 업데이트해야 합니다 (예: 새로운 질병 진단 기준).  \n",
            "- **실제 데이터** 작업은 병원/연구기관 협력이 필수적이므로 네트워킹 적극 활용.  \n",
            "- **윤리**와 **규제**는 의료 AI의 핵심 요소이므로 소홀히 하지 마세요.  \n",
            "\n",
            "이 계획을 기반으로 매년 목표를 점검하고, 산업 동향에 따라 유연하게 조정하시면 됩니다. 🚀 \n",
            "\n",
            "\n"
          ]
        }
      ],
      "source": [
        "from openai import OpenAI\n",
        "\n",
        "# Retrieve the UPSTAGE_API_KEY variable from the IPython store\n",
        "%store -r UPSTAGE_API_KEY\n",
        "\n",
        "try:\n",
        "    if UPSTAGE_API_KEY:\n",
        "        print(\"Success!\")\n",
        "except NameError as ne:\n",
        "    print(f\"Since, {ne}\")\n",
        "    print(\"Please, insert your API key.\")\n",
        "    UPSTAGE_API_KEY = input(\"UPSTAGE_API_KEY =\")\n",
        "\n",
        "# Set your API key:\n",
        "# UPSTAGE_API_KEY = \" \" ←- Insert your API key here.\n",
        "\n",
        "client = OpenAI(\n",
        "    api_key= UPSTAGE_API_KEY,\n",
        "    base_url=\"https://api.upstage.ai/v1/solar\"\n",
        ")\n",
        "\n",
        "response = client.chat.completions.create(\n",
        "    model=\"solar-pro2\",\n",
        "    messages=[\n",
        "        {\n",
        "            \"role\": \"user\",\n",
        "            \"content\": \"의료인공지능 전문가가 되기 위한 4개년 공부 계획을 세워줘.\"  ## 궁금한 질문을 마음껏 입력해보세요.\n",
        "        }\n",
        "    ],\n",
        ")\n",
        "\n",
        "print('\\n', response.choices[0].message.content, '\\n\\n')\n"
      ]
    },
    {
      "cell_type": "markdown",
      "metadata": {
        "id": "5WfB05rX7C0l"
      },
      "source": [
        "---"
      ]
    },
    {
      "cell_type": "markdown",
      "metadata": {
        "id": "RdfwuMMZ7C0l"
      },
      "source": [
        "## **1.2 Understanding Parameters**"
      ]
    },
    {
      "cell_type": "markdown",
      "metadata": {
        "id": "Qi4brFCG7C0l"
      },
      "source": [
        "When performing prompt engineering, parameters are key to controlling how the model behaves and the type of output you receive. <br>\n",
        "Here’s a detailed explanation of these parameters and their role in the completion generation process."
      ]
    },
    {
      "cell_type": "markdown",
      "metadata": {
        "id": "sOVVTMtq7C0l"
      },
      "source": [
        "### **1.2.1 Paramters**"
      ]
    },
    {
      "cell_type": "markdown",
      "metadata": {
        "id": "OVILL14X7C0l"
      },
      "source": [
        "**`Model`**:\n",
        "\n",
        "The specific model you are intending to interact with."
      ]
    },
    {
      "cell_type": "markdown",
      "metadata": {
        "id": "YLxtT9-n7C0l"
      },
      "source": [
        "**`Max_Tokens`**:\n",
        "\n",
        "- This parameter limits the total number of tokens (words or parts of words) in the output. Controlling `max_tokens` allows you to set a maximum length for the model’s output. This is useful to avoid overly long responses, control API usage costs, or tailor the output for specific use cases (e.g., short answers, summaries, etc.).\n",
        "\n",
        "- **Hard Stop**:\n",
        "    - Prevents the model from generating tokens beyond the specific limit.\n",
        "    - The generation may stop mid-word or mid-sentence when the token limit is reached.\n",
        "\n",
        "- **Prompt Tokens**: The number of tokens in the input prompt.\n",
        "\n",
        "- If `max_tokens` is set, the sum of input tokens and max_tokens must be less than or equal to the model’s  context length (≤ 4096 )"
      ]
    },
    {
      "cell_type": "markdown",
      "metadata": {
        "id": "DbYHghhR7C0l"
      },
      "source": [
        "**`Temperature`**:\n",
        "\n",
        "This parameter controls the randomness or creativity of the model’s responses.\n",
        "\n",
        "- A higher value allows for more flexibility, resulting in more diverse text generation.\n",
        "- A lower value makes the model more deterministic, typically generating more accurate and consistent output.\n",
        "\n",
        "The valid range is between **0** and **2.0** (`0 ≤ Temperature ≤ 2.0`).\n",
        "\n",
        "- **`0.0`**: The output is deterministic and predictable, meaning the model will likely return the same response to the same prompt every time.\n",
        "- **`0.7`**: This is a balanced level, where the model is creative but still focused. The responses may vary, but they tend to stay on topic.\n",
        "- **`2.0`**: This encourages highly creative or random output, potentially producing more unusual or diverse responses."
      ]
    },
    {
      "cell_type": "markdown",
      "metadata": {
        "id": "hKkiUzZf7C0l"
      },
      "source": [
        "**`Top_P`**:\n",
        "\n",
        " This is an alternative way to control the randomness of the model's output by considering the cumulative probability of token choices. `Top_P` allows you to control how \"safe\" or \"risky\" the model is in generating its response. Lower values reduce the model’s sampling range, forcing it to stick to higher-probability tokens, while higher values increase diversity in the responses.\n",
        "\n",
        "- **Top_P = 0.9**: the model will sample tokens from the smallest set whose cumulative probability is 90%.\n",
        "\n",
        "**! How it differs from `temperature`**: While `temperature` affects how creative the model is overall, `Top_P` affects how many of the high-probability tokens are considered in the final response."
      ]
    },
    {
      "cell_type": "markdown",
      "metadata": {
        "id": "CVsEADBv7C0l"
      },
      "source": [
        "> **Summary**\n",
        ">\n",
        "> - **model**: Defines the specific AI model being used.\n",
        "> - **max_tokens**: Limits the length of the response.\n",
        "> - **temperature**: Controls the creativity or randomness of the response.\n",
        "> - **top_p**: Controls how many token choices the model considers based on probability."
      ]
    },
    {
      "cell_type": "markdown",
      "metadata": {
        "id": "9-7-e1LG7C0l"
      },
      "source": [
        "### **1.2.2 Examples**"
      ]
    },
    {
      "cell_type": "markdown",
      "metadata": {
        "id": "BxHW7eVx7C0m"
      },
      "source": [
        "**Example #1: Configuration**"
      ]
    },
    {
      "cell_type": "code",
      "execution_count": null,
      "metadata": {
        "id": "865-h9Lr7C0m"
      },
      "outputs": [],
      "source": [
        "config_model = {\n",
        "    \"model\": \"solar-pro\",\n",
        "    \"max_tokens\": 2000,\n",
        "    \"temperature\": 0.7,\n",
        "    \"top_p\": 0.9,\n",
        "}"
      ]
    },
    {
      "cell_type": "markdown",
      "metadata": {
        "id": "bVmVqt4b7C0m"
      },
      "source": [
        "**Example #2: Temperature and Top_P Adjustment**\n",
        "\n",
        "Objective:  Compare how creativity and randomness affect responses."
      ]
    },
    {
      "cell_type": "code",
      "execution_count": null,
      "metadata": {
        "id": "ZbEa-HgZ7C0m",
        "outputId": "550aadf8-6f18-4bcc-f14d-060fec797c68"
      },
      "outputs": [
        {
          "name": "stdout",
          "output_type": "stream",
          "text": [
            "AI has the potential to revolutionize healthcare in many ways. Here are a few potential benefits:\n",
            "\n",
            "1. Improved Diagnosis: AI can analyze complex medical data and help doctors make more accurate diagnoses. For example, AI algorithms can analyze medical images to detect diseases like cancer at an early stage.\n",
            "\n",
            "2. Personalized Treatment: AI can help doctors create personalized treatment plans based on a patient's genetic makeup, lifestyle, and other factors. This can lead to more effective treatments and better patient outcomes.\n",
            "\n",
            "3. Drug Discovery: AI can help researchers discover new drugs and treatments faster and more efficiently. AI algorithms can analyze vast amounts of data to identify potential drug candidates and predict their effectiveness.\n",
            "\n",
            "4. Remote Monitoring: AI-powered wearable devices and remote monitoring systems can help doctors keep track of patients' health in real-time. This can help doctors detect health issues early and provide timely interventions.\n",
            "\n",
            "5. Administrative Efficiency: AI can help healthcare providers streamline administrative tasks, such as scheduling appointments, managing patient records, and processing insurance claims. This can help reduce costs and improve patient care.\n",
            "\n",
            "6. Mental Health: AI-powered chatbots and virtual therapists can provide mental health support to patients who may not have access to traditional therapy. These tools can help patients manage stress, anxiety, and depression.\n",
            "\n",
            "7. Predictive Analytics: AI can help healthcare providers predict health trends and identify potential health risks before they become serious issues. This can help providers take proactive measures to prevent diseases and improve patient outcomes. \n",
            "\n",
            "\n"
          ]
        }
      ],
      "source": [
        "config_robust = {\n",
        "    \"model\": \"solar-pro\",\n",
        "    \"messages\": [\n",
        "        {\n",
        "            \"role\": \"user\",\n",
        "            \"content\": \"What are the potential benefits of AI in healthcare?\"\n",
        "        }\n",
        "    ],\n",
        "    \"max_tokens\": 2000,\n",
        "    \"temperature\": 0.0,\n",
        "    \"top_p\": 0.8\n",
        "}\n",
        "\n",
        "response = client.chat.completions.create(**config_robust)\n",
        "print(response.choices[0].message.content, '\\n\\n')"
      ]
    },
    {
      "cell_type": "code",
      "execution_count": null,
      "metadata": {
        "id": "uh9mdbZa7C0m",
        "outputId": "4ddfbc95-e212-4bbf-a5d0-5c46c46cee69"
      },
      "outputs": [
        {
          "name": "stdout",
          "output_type": "stream",
          "text": [
            "AI has the potential to transform various aspects of healthcare, bringing about numerous benefits. Here are some of them:\n",
            "\n",
            "1. Improved Diagnosis: AI can help in early detection of diseases such as cancer by analyzing medical images with higher accuracy and consistency than human professionals.\n",
            "\n",
            "2. Personalized Treatment: AI can analyze patient data to develop customized treatment plans, taking into account their medical history, genetics, lifestyle, and other factors.\n",
            "\n",
            "3. More Accurate Predictions: AI can help predict outbreaks of diseases by analyzing patterns and trends in large sets of data, enabling better preparedness and prevention measures.\n",
            "\n",
            "4. Better Drug Discovery: AI can speed up the process of drug discovery by analyzing vast amounts of data to identify potential compounds and predict their effects.\n",
            "\n",
            "5. Improved Clinical Trials: AI can help identify suitable participants for clinical trials, analyze real-time results, and monitor symptoms, making the process more efficient and effective.\n",
            "\n",
            "6. Enhanced Patient Engagement: AI-powered chatbots can help patients manage their health conditions by providing personalized advice, reminders, and answering their queries.\n",
            "\n",
            "7. Reduced Healthcare Costs: By improving efficiency, reducing errors, and enabling early intervention, AI can help in cutting down healthcare costs.\n",
            "\n",
            "8. Increased Access to Healthcare: AI can help bring healthcare services to remote or underserved regions by enabling remote diagnosis and monitoring.\n",
            "\n",
            "9. Workflow Efficiency: AI can automate administrative tasks such as scheduling appointments, managing patient records, and processing insurance claims, allowing healthcare professionals to focus on patient care.\n",
            "\n",
            "10. Enhanced Research: AI can help analyze vast amounts of medical literature and data, assisting researchers in making new discoveries and advancing medical knowledge.\n",
            "\n",
            "Remember, while AI holds great promise in healthcare, it also poses certain challenges and risks, such as data privacy and bias. It's important to address these issues as we embrace AI in healthcare. \n",
            "\n",
            "\n"
          ]
        }
      ],
      "source": [
        "config_creative = {\n",
        "    \"model\": \"solar-pro\",\n",
        "    \"messages\": [\n",
        "        {\n",
        "            \"role\": \"user\",\n",
        "            \"content\": \"What are the potential benefits of AI in healthcare?\"\n",
        "        }\n",
        "    ],\n",
        "    \"max_tokens\": 2000,\n",
        "    \"temperature\": 1.0,\n",
        "    \"top_p\": 1.0\n",
        "}\n",
        "\n",
        "response = client.chat.completions.create(**config_creative)\n",
        "print(response.choices[0].message.content, '\\n\\n')"
      ]
    },
    {
      "cell_type": "markdown",
      "metadata": {
        "id": "1Vuw5cec7C0m"
      },
      "source": [
        "**Example #3: Limiting Output with Max_Tokens**\n",
        "\n",
        "Objective: Control the length of responses and stop them at specific points."
      ]
    },
    {
      "cell_type": "code",
      "execution_count": null,
      "metadata": {
        "id": "W22TjGCK7C0m",
        "outputId": "1bb51ee2-80ea-4394-a61e-5cf3ce5737c7"
      },
      "outputs": [
        {
          "name": "stdout",
          "output_type": "stream",
          "text": [
            "Sure, I'd be happy to explain! Upstage is a company that provides AI solutions, and one of their key offerings is their natural language processing (NLP) models. These models are designed to understand, interpret, and generate human language in a way that's similar to how humans do it.\n",
            "\n",
            "Here's a simple way to understand it: Have you ever used a voice assistant like Siri or Alexa? When you ask a question or give a command, these assistants use NLP to understand what you're saying. They break down your words into smaller parts, determine the meaning behind them, and then respond in a way that makes sense.\n",
            "\n",
            "Upstage's NLP models work in a similar way. They take in a piece of text, like a sentence or a paragraph, and analyze it. They look at the words, the order of the words, the context, and other factors to understand what the text is saying. Then, they can generate a response or perform an action based on that understanding.\n",
            "\n",
            "For example, if you asked Upstage's NLP model, \"What's the weather like today?\", it would analyze your question, determine that you're asking about the weather, and then provide you with the current weather conditions. It's like having a conversation with a really smart friend who knows a lot about different topics!\n",
            "\n",
            "So, in a nutshell, Upstage's NLP models handle natural language processing by understanding the meaning behind human language and responding in a way that's both accurate and helpful. \n",
            "\n",
            "\n"
          ]
        }
      ],
      "source": [
        "config_output_400 = {\n",
        "    \"model\": \"solar-pro\",\n",
        "    \"messages\": [\n",
        "        {\n",
        "            \"role\": \"user\",\n",
        "            \"content\": \"Explain how Upstage AI models handle natural language processing. Explain it in a way that non-developers can easily understand.\"\n",
        "        }\n",
        "    ],\n",
        "    \"max_tokens\": 400,\n",
        "    \"temperature\": 0.7,\n",
        "}\n",
        "\n",
        "response = client.chat.completions.create(**config_output_400)\n",
        "print(response.choices[0].message.content, '\\n\\n')"
      ]
    },
    {
      "cell_type": "code",
      "execution_count": null,
      "metadata": {
        "id": "d7VyLvP17C0m",
        "outputId": "df4c44d4-5255-4811-e112-361aff90c180"
      },
      "outputs": [
        {
          "name": "stdout",
          "output_type": "stream",
          "text": [
            "Of course! Natural Language Processing (NLP) is a branch of AI that helps computers understand, interpret, and generate human language. Upstage's AI models handle NLP in \n",
            "\n",
            "\n"
          ]
        }
      ],
      "source": [
        "config_output_40 = {\n",
        "    \"model\": \"solar-pro\",\n",
        "    \"messages\": [\n",
        "        {\n",
        "            \"role\": \"user\",\n",
        "            \"content\": \"Explain how Upstage AI models handle natural language processing. Explain it in a way that non-developers can easily understand.\"\n",
        "        }\n",
        "    ],\n",
        "    \"max_tokens\": 40,\n",
        "    \"temperature\": 0.7,\n",
        "}\n",
        "\n",
        "response = client.chat.completions.create(**config_output_40)\n",
        "print(response.choices[0].message.content, '\\n\\n')"
      ]
    },
    {
      "cell_type": "markdown",
      "metadata": {
        "id": "Q8vRgiR67C0m"
      },
      "source": [
        "---"
      ]
    },
    {
      "cell_type": "markdown",
      "metadata": {
        "id": "5gh7ir0f7C0m"
      },
      "source": [
        "## **1.3 Understanding Structure**"
      ]
    },
    {
      "cell_type": "markdown",
      "metadata": {
        "id": "ddPsbXUq7C0m"
      },
      "source": [
        "### **1.3.1 Input Structure**"
      ]
    },
    {
      "cell_type": "markdown",
      "metadata": {
        "id": "XmJHZfZ07C0m"
      },
      "source": [
        "**`messages`** :\n",
        "\n",
        "This is an array containing the conversation context. It includes exchanges between the user and the model. Each element contains:\n",
        "\n",
        "- “**role**”:\n",
        "    \n",
        "    The role can be `\"user\"`, `\"assistant\"`, or `\"system\"`, indicating the source of the message.\n",
        "    \n",
        "    In the case of `\"role\": \"system\"`, it sets the behavior, tone, and knowledge base of the assistant, acting as an initial instruction.\n",
        "    \n",
        "    In the case of `\"role\": \"user\"`, it specifies that the message comes from the user.\n",
        "    \n",
        "    In the case of `\"role\": \"assistant\"`, it contains responses generated by the AI to address the user’s queries or continue the conversation."
      ]
    },
    {
      "cell_type": "markdown",
      "metadata": {
        "id": "1fZusE-f7C0n"
      },
      "source": [
        "### **1.3.2 Example**"
      ]
    },
    {
      "cell_type": "code",
      "execution_count": null,
      "metadata": {
        "id": "YtUZDdGC7C0n"
      },
      "outputs": [],
      "source": [
        "{\n",
        "  \"role\": \"system\",\n",
        "  \"content\": \"You are my Assistant. Your role is to answer my questions faithfully and in detail.\"\n",
        "}"
      ]
    },
    {
      "cell_type": "code",
      "execution_count": null,
      "metadata": {
        "id": "0BZ5dUIj7C0n"
      },
      "outputs": [],
      "source": [
        "{\n",
        "  \"role\": \"user\",\n",
        "  \"content\": \"Hello, Solar. Can you help me plan a weekend trip to New York City?\"\n",
        "}"
      ]
    },
    {
      "cell_type": "code",
      "execution_count": null,
      "metadata": {
        "id": "UbytlDlq7C0n"
      },
      "outputs": [],
      "source": [
        "{\n",
        "  \"role\": \"assistant\",\n",
        "  \"content\": \"Hello! I'd be happy to help you plan your weekend trip to New York City. Let's start by discussing your interests and preferences. Are you looking for sightseeing, shopping, diningor perhaps a mix of all?\"\n",
        "}"
      ]
    },
    {
      "cell_type": "markdown",
      "metadata": {
        "id": "tVPskroG7C0n"
      },
      "source": [
        "---"
      ]
    },
    {
      "cell_type": "markdown",
      "metadata": {
        "id": "Qx0Kviow7C0n"
      },
      "source": [
        "## **1.4 Understanding System Prompt**"
      ]
    },
    {
      "cell_type": "markdown",
      "metadata": {
        "id": "5hW583ON7C0n"
      },
      "source": [
        "### **1.4.1 System Prompt**"
      ]
    },
    {
      "cell_type": "markdown",
      "metadata": {
        "id": "e7bCP01F7C0n"
      },
      "source": [
        "**The system prompt** plays a key role in shaping how the AI model interprets and responds to user inputs. In the context of prompt engineering, understanding and utilizing the system prompt effectively can help guide the model’s behavior and ensure that its responses are aligned with user expectations.  In this book, we show **two different types of system prompts: a short version and a long version.**"
      ]
    },
    {
      "cell_type": "markdown",
      "metadata": {
        "id": "ZgwuknNO7C0n"
      },
      "source": [
        "> **Tips**:\n",
        ">\n",
        "> If the system prompt is short, the responses tend to be brief; if the system prompt is long, the responses are generally longer."
      ]
    },
    {
      "cell_type": "markdown",
      "metadata": {
        "id": "GgZuTucZ7C0r"
      },
      "source": [
        "### **1.4.2 Examples**"
      ]
    },
    {
      "cell_type": "markdown",
      "metadata": {
        "id": "cyI8hRuR7C0r"
      },
      "source": [
        "**Example #1: Short Version**"
      ]
    },
    {
      "cell_type": "code",
      "execution_count": null,
      "metadata": {
        "colab": {
          "base_uri": "https://localhost:8080/"
        },
        "id": "sFph7vFZ7C0r",
        "outputId": "57bf2203-ecc8-49ce-e4d4-43a656ec3fc7"
      },
      "outputs": [
        {
          "output_type": "stream",
          "name": "stdout",
          "text": [
            "**Wegovy (semaglutide) for Injection** is a prescription medication approved by the U.S. FDA (2021) for chronic weight management in adults with obesity (BMI ≥ 30) or overweight (BMI ≥ 27) with at least one weight-related condition (e.g., hypertension, type 2 diabetes). It is also approved for pediatric use (12+ years) under similar criteria.  \n",
            "\n",
            "---\n",
            "\n",
            "### **Key Details**  \n",
            "#### **1. Drug Class & Mechanism of Action**  \n",
            "- **GLP-1 (Glucagon-Like Peptide-1) Receptor Agonist**: A synthetic analog of human GLP-1, a hormone involved in appetite regulation and glucose metabolism.  \n",
            "- **Mechanism**:  \n",
            "  - Slows gastric emptying, enhancing satiety.  \n",
            "  - Acts on the hypothalamus to reduce hunger signals.  \n",
            "  - Improves insulin sensitivity (secondary benefit for those with diabetes).  \n",
            "\n",
            "#### **2. Efficacy**  \n",
            "- **Clinical Trials (STEP Trials)**:  \n",
            "  - **Average weight loss**: 12–15% of baseline body weight over 68 weeks (vs. 2–6% with placebo).  \n",
            "  - **≥15% weight loss**: Achieved by ~30% of patients.  \n",
            "- **Maintenance**: Requires continued use; weight regain occurs upon discontinuation.  \n",
            "\n",
            "#### **3. Dosage & Administration**  \n",
            "- **Form**: Once-weekly subcutaneous injection (prefilled pen).  \n",
            "- **Dosing Schedule**:  \n",
            "  - **0.25 mg** (4 weeks) → **0.5 mg** (4 weeks) → **1.0 mg** (4 weeks) → **1.7 mg** (maintenance).  \n",
            "  - Gradual titration minimizes gastrointestinal side effects.  \n",
            "- **Timing**: Administer on the same day each week, with or without meals.  \n",
            "\n",
            "#### **4. Side Effects**  \n",
            "- **Common (≤10%)**:  \n",
            "  - Gastrointestinal: Nausea, vomiting, diarrhea, constipation, abdominal pain.  \n",
            "  - Injection-site reactions.  \n",
            "- **Serious (Rare)**:  \n",
            "  - **Pancreatitis**: Severe abdominal pain requires immediate discontinuation.  \n",
            "  - **Gallbladder disease** (cholecystitis, gallstones).  \n",
            "  - **Suicidal thoughts** (reported in GLP-1 class; monitor mood changes).  \n",
            "  - **Thyroid C-cell tumor risk** (contraindicated in personal/family history of medullary thyroid carcinoma or MEN syndrome).  \n",
            "\n",
            "#### **5. Contraindications & Warnings**  \n",
            "- **Contraindicated in**:  \n",
            "  - Pregnancy (Category C; may harm fetus).  \n",
            "  - Active thyroid cancer or multiple endocrine neoplasia syndrome.  \n",
            "- **Cautions**:  \n",
            "  - Renal impairment (dose adjustment not required, but monitor).  \n",
            "  - History of diabetic retinopathy (risk of worsening).  \n",
            "\n",
            "#### **6. Lifestyle Integration**  \n",
            "- **Optimized with**: Reduced-calorie diet and increased physical activity.  \n",
            "- **Behavioral Support**: Higher efficacy when combined with counseling.  \n",
            "\n",
            "#### **7. Cost & Access**  \n",
            "- **Brand-Name Only**: No generic available.  \n",
            "- **Cost**: ~$1,300–$1,500/month (may be covered by insurance with prior authorization).  \n",
            "- **Savings Programs**: Manufacturer coupons reduce out-of-pocket costs.  \n",
            "\n",
            "#### **8. Comparison to Ozempic**  \n",
            "- **Same Active Ingredient**: Wegovy and Ozempic (semaglutide) differ in:  \n",
            "  - **Approval**: Ozempic is for type 2 diabetes; Wegovy is for weight loss.  \n",
            "  - **Dosage**: Wegovy’s max dose (2.4 mg/week) is higher than Ozempic’s (2.0 mg/week).  \n",
            "\n",
            "---\n",
            "\n",
            "**Note**: Wegovy is not a standalone solution for obesity. It should be used as part of a comprehensive weight management plan under medical supervision. Regular monitoring for efficacy and adverse effects is essential.  \n",
            "\n",
            "For personalized advice, consult a healthcare provider. \n",
            "\n",
            "\n"
          ]
        }
      ],
      "source": [
        "config_model = {\n",
        "    \"model\": \"solar-pro2\",\n",
        "    \"max_tokens\": 2000,\n",
        "    \"temperature\": 0.7,\n",
        "    \"top_p\": 0.9,\n",
        "}\n",
        "\n",
        "message = [\n",
        "    {\n",
        "        \"role\": \"system\",\n",
        "        \"content\": \"You are Solar, a knowledgeable medical assistant. Provide clear, factual, and well-organized information about medical drugs, including their use, mechanism, dosage, and side effects. Be concise and professional.\"\n",
        "    }\n",
        "    ,\n",
        "    {\n",
        "        \"role\": \"user\",\n",
        "        \"content\": \"Explain about Wegovy in detail.\"\n",
        "    }\n",
        "]\n",
        "\n",
        "config = {**config_model, \"messages\": message}\n",
        "\n",
        "response = client.chat.completions.create(**config)\n",
        "print(response.choices[0].message.content, '\\n\\n')"
      ]
    },
    {
      "cell_type": "markdown",
      "metadata": {
        "id": "0kZJFol37C0s"
      },
      "source": [
        "**Example #2: Long Version**"
      ]
    },
    {
      "cell_type": "code",
      "execution_count": null,
      "metadata": {
        "colab": {
          "base_uri": "https://localhost:8080/"
        },
        "id": "jNTARWe07C0s",
        "outputId": "55877cad-1d23-4636-d7ef-7843fd82da04"
      },
      "outputs": [
        {
          "output_type": "stream",
          "name": "stdout",
          "text": [
            "**Wegovy (semaglutide) for Weight Management: A Detailed Overview**  \n",
            "\n",
            "**Purpose**  \n",
            "Wegovy is a prescription medication approved by the FDA (U.S.) and other regulatory agencies for **chronic weight management** in adults with:  \n",
            "- A **body mass index (BMI) ≥ 30** (obesity) or **BMI ≥ 27** (overweight) with at least one weight-related condition (e.g., hypertension, type 2 diabetes).  \n",
            "It is **not** a replacement for diet and exercise but is used alongside lifestyle changes to enhance weight loss.  \n",
            "\n",
            "---  \n",
            "\n",
            "### **Mechanism of Action**  \n",
            "- Wegovy contains **semaglutide**, a **GLP-1 (glucagon-like peptide-1) receptor agonist**.  \n",
            "- **How it works**:  \n",
            "  1. **Appetite suppression**: Mimics GLP-1, a hormone released after eating that signals satiety to the brain, reducing hunger.  \n",
            "  2. **Slows gastric emptying**: Food stays in the stomach longer, promoting fullness.  \n",
            "  3. **Potential effects on brain reward centers**: May reduce cravings for high-calorie foods.  \n",
            "\n",
            "*(Note: Semaglutide is also used in lower doses for type 2 diabetes under the brand name Ozempic, but Wegovy is specifically approved for weight loss at a higher dose.)*  \n",
            "\n",
            "---  \n",
            "\n",
            "### **Dosage & Administration**  \n",
            "- **Form**: Once-weekly **subcutaneous injection** (under the skin, typically in the stomach, thigh, or upper arm).  \n",
            "- **Dosage escalation** (to minimize side effects):  \n",
            "  - Start with **0.25 mg** weekly for 4 weeks → increase to **0.5 mg** for 4 weeks → **1.0 mg** for 4 weeks → **1.7 mg** (maintenance dose).  \n",
            "- **Missed dose**: Administer within 5 days of the missed dose; otherwise, skip and resume the regular schedule.  \n",
            "\n",
            "---  \n",
            "\n",
            "### **Effectiveness**  \n",
            "- **Clinical trials** (STEP trials) showed:  \n",
            "  - Average weight loss of **12–15% of baseline body weight** over 68 weeks (vs. 2–6% with placebo).  \n",
            "  - Higher efficacy than older weight-loss drugs (e.g., phentermine-topiramate, liraglutide/Saxenda).  \n",
            "- **Long-term use**: Continued weight loss maintenance requires ongoing treatment; weight may be regained after stopping.  \n",
            "\n",
            "---  \n",
            "\n",
            "### **Common Side Effects**  \n",
            "Most are mild to moderate and improve with time:  \n",
            "- **Gastrointestinal**: Nausea (most common), vomiting, diarrhea, constipation, abdominal pain.  \n",
            "- **Injection site reactions**: Redness, pain, or itching.  \n",
            "- **Headache, fatigue, dizziness**.  \n",
            "\n",
            "**Serious but rare risks**:  \n",
            "- **Pancreatitis** (inflammation of the pancreas; discontinue if severe abdominal pain occurs).  \n",
            "- **Gallbladder issues** (e.g., gallstones).  \n",
            "- **Suicidal thoughts** (reported in some GLP-1 agonists; monitor mood changes).  \n",
            "- **Thyroid C-cell tumor risk** (theoretical concern; contraindicated in personal/family history of medullary thyroid carcinoma or MEN syndrome).  \n",
            "\n",
            "---  \n",
            "\n",
            "### **Precautions & Warnings**  \n",
            "- **Contraindications**: Pregnancy, personal/family history of thyroid cancer, or hypersensitivity to semaglutide.  \n",
            "- **Drug interactions**:  \n",
            "  - May reduce absorption of oral medications (take oral drugs at least 30 minutes before Wegovy).  \n",
            "  - Caution with insulin or sulfonylureas (risk of hypoglycemia).  \n",
            "- **Monitoring**: Regular follow-ups to assess weight loss progress and side effects.  \n",
            "\n",
            "---  \n",
            "\n",
            "### **Comparison with Similar Drugs**  \n",
            "| Drug          | Mechanism       | Administered | Avg. Weight Loss |  \n",
            "|---------------|----------------|--------------|------------------|  \n",
            "| **Wegovy**    | GLP-1 agonist  | Weekly shot  | 12–15%           |  \n",
            "| **Ozempic**   | GLP-1 agonist  | Weekly shot  | ~5–10% (for diabetes) |  \n",
            "| **Saxenda**   | GLP-1 agonist  | Daily shot   | ~5–10%           |  \n",
            "| **Zepbound**  | GIP/GLP-1 dual | Weekly shot  | ~15–20% (newer)  |  \n",
            "\n",
            "*(Note: Zepbound (tirzepatide) is a newer dual agonist showing higher weight loss in trials but is not yet widely available.)*  \n",
            "\n",
            "---  \n",
            "\n",
            "### **Key Takeaways**  \n",
            "- Wegovy is a powerful tool for obesity management but works best with **diet, exercise, and behavioral support**.  \n",
            "- Side effects are manageable for most but require careful monitoring.  \n",
            "- **Consult a healthcare provider** to determine if Wegovy is right for you, as individual responses vary.  \n",
            "\n",
            "*Disclaimer: This information is not medical advice. Always seek personalized guidance from a qualified healthcare professional.* \n",
            "\n",
            "\n"
          ]
        }
      ],
      "source": [
        "config_model = {\n",
        "    \"model\": \"solar-pro\",\n",
        "    \"max_tokens\": 2000,\n",
        "    \"temperature\": 0.7,\n",
        "    \"top_p\": 0.9,\n",
        "}\n",
        "\n",
        "message = [\n",
        "    {\n",
        "        \"role\": \"system\",\n",
        "        \"content\": \"You are Solar, a friendly yet medically knowledgeable AI assistant. Your goal is to explain medical topics in a way that is accurate, easy to understand, and empathetic. When discussing a medication, include its purpose, mechanism of action, dosage, effectiveness, side effects, and any precautions. If relevant, compare it to similar drugs. Always make it clear that your responses are not a substitute for professional medical advice.\"\n",
        "    }\n",
        "    ,\n",
        "    {\n",
        "        \"role\": \"user\",\n",
        "        \"content\": \"Explain about Wegovy in detail.\"\n",
        "    }\n",
        "]\n",
        "\n",
        "config = {**config_model, \"messages\": message}\n",
        "\n",
        "response = client.chat.completions.create(**config)\n",
        "print(response.choices[0].message.content, '\\n\\n')"
      ]
    },
    {
      "cell_type": "markdown",
      "metadata": {
        "id": "eJ1Cw5dp7C0s"
      },
      "source": [
        "### **1.4.3 Practice**\n",
        "\n",
        "Try switching between the short and long versions of the system prompt with different questions to experience the difference in responses."
      ]
    },
    {
      "cell_type": "markdown",
      "metadata": {
        "id": "M8gmO1867C0s"
      },
      "source": [
        "**Short System Prompt**"
      ]
    },
    {
      "cell_type": "code",
      "execution_count": null,
      "metadata": {
        "id": "vDp0ukID7C0s"
      },
      "outputs": [],
      "source": [
        "message = [\n",
        "    {\n",
        "        \"role\": \"system\",\n",
        "        \"content\": \"You are an AI assistant to help user's various tasks. Please provide me with an accurate information.\"\n",
        "    },\n",
        "    {\n",
        "        \"role\": \"user\",\n",
        "        \"content\": \" \" # ←- Insert your prompt here.\n",
        "    }\n",
        "]\n",
        "\n",
        "config = {**config_model, \"messages\": message}\n",
        "\n",
        "response = client.chat.completions.create(**config)\n",
        "print(response.choices[0].message.content, \"\\n\\n\")"
      ]
    },
    {
      "cell_type": "markdown",
      "metadata": {
        "id": "u9Q8z60W7C0s"
      },
      "source": [
        "**Long System Prompt**"
      ]
    },
    {
      "cell_type": "code",
      "execution_count": null,
      "metadata": {
        "id": "92Xc2zgJ7C0s"
      },
      "outputs": [],
      "source": [
        "message = [\n",
        "    {\n",
        "        \"role\": \"system\",\n",
        "        \"content\": \"Your name is Solar. As my friendly AI language assistant, you are tasked with providing me an accurate information. If you find that the information at hand is inadequate, please ask me for further information. [Strong Rule] If you don't have any real-time information about the user’s query, please be honesty.\"\n",
        "    },\n",
        "    {\n",
        "        \"role\": \"user\",\n",
        "        \"content\": \" \" # ←- Insert your prompt here.\n",
        "    }\n",
        "]\n",
        "\n",
        "config = {**config_model, \"messages\": message}\n",
        "\n",
        "response = client.chat.completions.create(**config)\n",
        "print(response.choices[0].message.content, \"\\n\\n\")"
      ]
    },
    {
      "cell_type": "markdown",
      "metadata": {
        "id": "4GB80egi7C0s"
      },
      "source": [
        "**Custom Your System Prompt**"
      ]
    },
    {
      "cell_type": "code",
      "execution_count": null,
      "metadata": {
        "id": "zaVkV1HK7C0s"
      },
      "outputs": [],
      "source": [
        "config_your_model = {\n",
        "    \"model\": \"solar-pro\",\n",
        "    \"max_tokens\": 0.0,  # ←- Insert your max_tokens: 0.0 ~ here.\n",
        "    \"temperature\": 0.0, # ←- Insert your temperature: 0.0 ~ 2.0 here.\n",
        "    \"top_p\": 0.0,       # ←- Insert your top_p: 0.0 ~ 1.0 here.\n",
        "}\n",
        "\n",
        "message = [\n",
        "    {\n",
        "        \"role\": \"system\",\n",
        "        \"content\": \" \" # ←- Insert your system prompt here.\n",
        "    },\n",
        "    {\n",
        "        \"role\": \"user\",\n",
        "        \"content\": \" \" # ←- Insert your prompt here.\n",
        "    }\n",
        "]\n",
        "\n",
        "config = {**config_your_model, \"messages\": message}\n",
        "\n",
        "response = client.chat.completions.create(**config)\n",
        "print(response.choices[0].message.content, '\\n\\n')"
      ]
    },
    {
      "cell_type": "markdown",
      "metadata": {
        "id": "Mg8bsxUq7C0s"
      },
      "source": [
        "*Next: [Chapter 2. Direct and Clear Prompts](./02_Chapter%202.%20Direct%20and%20Clear%20Prompts.ipynb)*"
      ]
    }
  ],
  "metadata": {
    "kernelspec": {
      "display_name": "base",
      "language": "python",
      "name": "python3"
    },
    "language_info": {
      "codemirror_mode": {
        "name": "ipython",
        "version": 3
      },
      "file_extension": ".py",
      "mimetype": "text/x-python",
      "name": "python",
      "nbconvert_exporter": "python",
      "pygments_lexer": "ipython3",
      "version": "3.12.4"
    },
    "colab": {
      "provenance": [],
      "include_colab_link": true
    }
  },
  "nbformat": 4,
  "nbformat_minor": 0
}