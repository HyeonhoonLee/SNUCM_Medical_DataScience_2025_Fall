{
  "cells": [
    {
      "cell_type": "markdown",
      "metadata": {
        "id": "view-in-github",
        "colab_type": "text"
      },
      "source": [
        "<a href=\"https://colab.research.google.com/github/HyeonhoonLee/SNUCM_Medical_DataScience_2025_Fall/blob/main/03_Chapter_3_Five_Focal_Prompt_Elements_and_Types_.ipynb\" target=\"_parent\"><img src=\"https://colab.research.google.com/assets/colab-badge.svg\" alt=\"Open In Colab\"/></a>"
      ]
    },
    {
      "cell_type": "markdown",
      "metadata": {
        "id": "Dph2uXkzcVlV"
      },
      "source": [
        "# **Chapter 3. Five Focal Prompt Elements and Types**"
      ]
    },
    {
      "cell_type": "markdown",
      "metadata": {
        "id": "Z0xJEwmVcVlW"
      },
      "source": [
        "In this chapter, we will review the five focal elements of a well-constructed prompt and the different types of prompts that utilize these elements: `Instruction, Context, Example, Input Data, Output.`  \n",
        "\n",
        "These elements form the foundation of effective communication with Solar, ensuring the responses generated align with your desired outcomes."
      ]
    },
    {
      "cell_type": "markdown",
      "metadata": {
        "id": "4Ur2ZfymcVlW"
      },
      "source": [
        "## **Table of Contents**\n",
        "- Use `Ctrl + F` (Windows) or `Cmd + F` (Mac) to locate specific sections by title."
      ]
    },
    {
      "cell_type": "markdown",
      "metadata": {
        "id": "Yd6W2h1ZcVlW"
      },
      "source": [
        "- **3.1 Focal Elements**\n",
        "\n",
        "- **3.2 Examples**\n",
        "\n",
        "- **3.3 Practice**"
      ]
    },
    {
      "cell_type": "markdown",
      "metadata": {
        "id": "hH58aYXxcVlX"
      },
      "source": [
        "**Set up**"
      ]
    },
    {
      "cell_type": "code",
      "execution_count": null,
      "metadata": {
        "id": "kW-ldB0ccVlX"
      },
      "outputs": [],
      "source": [
        "from openai import OpenAI\n",
        "\n",
        "# Retrieve the UPSTAGE_API_KEY variable from the IPython store\n",
        "%store -r UPSTAGE_API_KEY\n",
        "\n",
        "try:\n",
        "    if UPSTAGE_API_KEY:\n",
        "        print(\"Success!\")\n",
        "except NameError as ne:\n",
        "    print(f\"Since, {ne}\")\n",
        "    print(\"Please, insert your API key.\")\n",
        "    UPSTAGE_API_KEY = input(\"UPSTAGE_API_KEY =\")\n",
        "\n",
        "# Set your API key:\n",
        "# UPSTAGE_API_KEY = \" \" ←- Insert your API key here.\n",
        "\n",
        "client = OpenAI(\n",
        "    api_key= UPSTAGE_API_KEY,\n",
        "    base_url=\"https://api.upstage.ai/v1/solar\"\n",
        ")\n",
        "\n",
        "config_model = {\n",
        "    \"model\": \"solar-pro2\",\n",
        "    \"max_tokens\": 2000,\n",
        "    \"temperature\": 0.7,\n",
        "    \"top_p\": 0.9,\n",
        "}\n",
        "\n",
        "def get_completion(messages, system_prompt=\"\", config=config_model):\n",
        "    try:\n",
        "        if system_prompt:\n",
        "            messages = [{\"role\": \"system\", \"content\": system_prompt}] + messages\n",
        "\n",
        "        message = client.chat.completions.create(messages=messages, **config)\n",
        "        return message.choices[0].message.content\n",
        "\n",
        "    except Exception as e:\n",
        "        print(f\"Error during API call: {e}\")\n",
        "        return None"
      ]
    },
    {
      "cell_type": "markdown",
      "metadata": {
        "id": "6UKnKrXjcVlY"
      },
      "source": [
        "---"
      ]
    },
    {
      "cell_type": "markdown",
      "metadata": {
        "id": "RpX_DbLEcVlY"
      },
      "source": [
        "## **3.1 Focal Elements**"
      ]
    },
    {
      "cell_type": "markdown",
      "metadata": {
        "id": "dmeOlyOHcVlY"
      },
      "source": [
        "- **`Instruction`**  \n",
        "\n",
        "    - The instruction is the core component of a prompt that directs the model on what task to perform. A good instruction should be explicit, concise, and goal-oriented.  \n",
        "\n",
        "\n",
        "- **`Context`**  \n",
        "\n",
        "    - Context provides background information or framing that helps the model generate a more relevant response. It could include past interactions, user-specific information, or task-related details.  \n",
        "\n",
        "\n",
        "- **`Example`**  \n",
        "\n",
        "    - Examples are useful for guiding the model's response style and format. Providing one or more examples can help the model understand what is expected in terms of tone, content, or output structure. (The use of examples in prompts is fully addressed in Chapter 4.)  \n",
        "\n",
        "\n",
        "- **`Input Data`**  \n",
        "\n",
        "    - Input data refers to the specific content that the model should work on, whether it is a text passage, numerical data, or any other type of input. This element allows the model to generate a detailed response based on the provided content.  \n",
        "    \n",
        "\n",
        "- **`Output`**  \n",
        "\n",
        "    - The output element specifies what the response should look like, such as its structure, tone, or length. Clearly defining the desired output can help the model align its response to meet your expectations. (Controlling and modifying the final output is covered in detail in Chapter 5.)   \n",
        "\n",
        "    Combining these five focal elements in different ways creates various types of prompts.   \n",
        "    \n",
        "    Below are **four prompt types A to D**:\n",
        "\n",
        "    - `Type A`: Instruction -> Output  \n",
        "\n",
        "    - `Type B`: Instruction + Context -> Output  \n",
        "\n",
        "    - `Type C`: Instruction + Context + Example ->Output  \n",
        "    \n",
        "    - `Type D`: Instruction + Input Data -> Output   \n",
        "\n",
        "\n",
        "    **Throughout all chpaters, prompt types A to D are utilized.**   \n",
        "\n"
      ]
    },
    {
      "cell_type": "markdown",
      "metadata": {
        "id": "xsmoaxpQcVlY"
      },
      "source": [
        "**Benefits of Using These Types for Prompt Crafting**\n",
        "\n",
        "There are several benefits to using these types for prompt crafting:  \n",
        "\n",
        "1. **Finding the Best Combination for Each Task**  \n",
        "\n",
        "    - Every task requires a different type of prompt structure. By testing these types, you can find the best combination that works effectively for each task.  \n",
        "\n",
        "\n",
        "2. **Ease of Testing Prompt Optimization**  \n",
        "\n",
        "    - These types make it easier to test and optimize prompts, allowing you to refine and improve the model's responses efficiently.  "
      ]
    },
    {
      "cell_type": "markdown",
      "metadata": {
        "id": "D_5BBfsYcVlZ"
      },
      "source": [
        "---"
      ]
    },
    {
      "cell_type": "markdown",
      "metadata": {
        "id": "unBWXIvpcVlZ"
      },
      "source": [
        "## **3.2 Examples**"
      ]
    },
    {
      "cell_type": "markdown",
      "metadata": {
        "id": "ut9iKKyjcVlZ"
      },
      "source": [
        "**Type A: Instruction -> Output**"
      ]
    },
    {
      "cell_type": "code",
      "execution_count": null,
      "metadata": {
        "id": "mKZRBBYZcVlZ"
      },
      "outputs": [],
      "source": [
        "# Instruction Only\n",
        "message = [\n",
        "    {\n",
        "        \"role\": \"user\",\n",
        "        \"content\": \"Write a short summary of the main functions of the circulatory system.\"\n",
        "    }\n",
        "]\n",
        "\n",
        "response = get_completion(messages=message)"
      ]
    },
    {
      "cell_type": "code",
      "execution_count": null,
      "metadata": {
        "colab": {
          "base_uri": "https://localhost:8080/"
        },
        "id": "RQ2aI2vlcVlZ",
        "outputId": "9619f8ba-6621-482c-bde3-86cfeff0bbd2"
      },
      "outputs": [
        {
          "output_type": "stream",
          "name": "stdout",
          "text": [
            "The circulatory system, also known as the cardiovascular system, performs several vital functions:  \n",
            "\n",
            "1. **Transportation**: Delivers oxygen, nutrients (e.g., glucose, amino acids), hormones, and immune cells to tissues while removing waste products like carbon dioxide and urea.  \n",
            "2. **Gas Exchange**: Facilitates the exchange of oxygen and carbon dioxide between the lungs and blood, then between blood and body cells.  \n",
            "3. **Immune Defense**: Circulates white blood cells and antibodies to fight infections and support immune responses.  \n",
            "4. **Temperature Regulation**: Helps maintain body temperature by adjusting blood flow to the skin and redistributing heat.  \n",
            "5. **Hydraulic Functions**: Maintains fluid balance by regulating blood pressure and volume via interactions with the lymphatic system.  \n",
            "\n",
            "Key components include the heart (pump), blood vessels (arteries, veins, capillaries), and blood (transport medium). This system ensures homeostasis and sustains cellular function throughout the body. \n",
            "\n",
            "\n"
          ]
        }
      ],
      "source": [
        "# Output\n",
        "print(response, \"\\n\\n\")"
      ]
    },
    {
      "cell_type": "markdown",
      "source": [],
      "metadata": {
        "id": "K3LAdKydj1id"
      }
    },
    {
      "cell_type": "markdown",
      "metadata": {
        "id": "rNMvaF91cVlZ"
      },
      "source": [
        "**Type B: Instruction + Context -> Output**"
      ]
    },
    {
      "cell_type": "code",
      "execution_count": null,
      "metadata": {
        "id": "22Cy9m-8cVlZ"
      },
      "outputs": [],
      "source": [
        "# Instruction + Context\n",
        "Instruction = \"Write a short summary of the main functions of the circulatory system.\"\n",
        "Context = \"in a way that helps second-year premedical students understand easily.\"\n",
        "\n",
        "message = [\n",
        "    {\n",
        "        \"role\": \"user\",\n",
        "        \"content\": Instruction + Context\n",
        "    }\n",
        "]\n",
        "\n",
        "response = get_completion(messages=message)"
      ]
    },
    {
      "cell_type": "code",
      "execution_count": null,
      "metadata": {
        "colab": {
          "base_uri": "https://localhost:8080/"
        },
        "id": "fu5fptBHcVlZ",
        "outputId": "b661f9c6-b6f9-423a-ba18-49502cd67a98"
      },
      "outputs": [
        {
          "output_type": "stream",
          "name": "stdout",
          "text": [
            "Here’s a clear, concise summary of the **main functions of the circulatory system** tailored for second-year premedical students:  \n",
            "\n",
            "### **Key Functions of the Circulatory System**  \n",
            "1. **Transport of Oxygen & Nutrients**  \n",
            "   - Delivers **oxygen** (from lungs) and **nutrients** (from the digestive system) to tissues via blood.  \n",
            "   - Ensures cells have energy (glucose) and building blocks (amino acids, lipids) for metabolism.  \n",
            "\n",
            "2. **Removal of Waste Products**  \n",
            "   - Carries **carbon dioxide** (CO₂) from tissues to the lungs for exhalation.  \n",
            "   - Transports metabolic wastes (e.g., urea, creatinine) to the kidneys for excretion.  \n",
            "\n",
            "3. **Immunological Defense**  \n",
            "   - Circulates **white blood cells (WBCs)** and antibodies to fight infections.  \n",
            "   - Transports **clotting factors** (e.g., platelets, fibrin) to prevent blood loss after injuries.  \n",
            "\n",
            "4. **Hormone Distribution**  \n",
            "   - Acts as a \"chemical messenger system\" by delivering hormones (e.g., insulin, adrenaline) from endocrine glands to target organs.  \n",
            "\n",
            "5. **Thermoregulation**  \n",
            "   - Regulates body temperature by adjusting blood flow to the skin (vasodilation for cooling, vasoconstriction for heat retention).  \n",
            "\n",
            "6. **Maintenance of Homeostasis**  \n",
            "   - Balances pH, fluid volume, and electrolyte levels (e.g., sodium, potassium) via interactions with the kidneys and lungs.  \n",
            "\n",
            "### **Simplified Analogy**  \n",
            "Think of the circulatory system as a **\"highway network\"** where:  \n",
            "- **Blood vessels = roads** (arteries, veins, capillaries)  \n",
            "- **Heart = central pump** (ensures traffic flow)  \n",
            "- **Blood = delivery trucks** (carrying oxygen, nutrients, waste, and signals)  \n",
            "\n",
            "This system ensures every cell gets what it needs to survive while removing harmful byproducts—essential for overall physiological balance!  \n",
            "\n",
            "Would you like any part explained in more detail? 😊 \n",
            "\n",
            "\n"
          ]
        }
      ],
      "source": [
        "# Output\n",
        "print(response, \"\\n\\n\")"
      ]
    },
    {
      "cell_type": "markdown",
      "metadata": {
        "id": "2UznbEqXcVlZ"
      },
      "source": [
        "**Type C: Instruction + Context + Example -> Output**"
      ]
    },
    {
      "cell_type": "code",
      "execution_count": null,
      "metadata": {
        "id": "zTRl-AitcVlZ"
      },
      "outputs": [],
      "source": [
        "# Instruction + Context + Example\n",
        "Instruction = \"Write a short summary of the main functions of the circulatory system.\"\n",
        "Context = \"in a way that helps second-year premedical students understand easily.\"\n",
        "Example = \"For instance, you can compare the heart to a pump and the blood vessels to highways.\"\n",
        "\n",
        "message = [\n",
        "    {\n",
        "        \"role\": \"user\",\n",
        "        \"content\": Instruction + Context + Example\n",
        "    }\n",
        "]\n",
        "\n",
        "response = get_completion(messages=message)"
      ]
    },
    {
      "cell_type": "code",
      "execution_count": null,
      "metadata": {
        "colab": {
          "base_uri": "https://localhost:8080/"
        },
        "id": "OEZVDoLScVlZ",
        "outputId": "f54f1d28-5e02-4ad0-ec78-751dbf436dac"
      },
      "outputs": [
        {
          "output_type": "stream",
          "name": "stdout",
          "text": [
            "**Summary of the Circulatory System: The Body’s Delivery & Waste Management Network**  \n",
            "\n",
            "Imagine your body as a bustling city, and the **circulatory system** as its efficient transportation network. Here’s how it works:  \n",
            "\n",
            "1. **The Heart: The Powerful Pump**  \n",
            "   - Like a central power station, the heart generates the force needed to push blood throughout the body. Its four chambers (two atria, two ventricles) work in rhythm to ensure oxygen-rich blood is sent to tissues and oxygen-poor blood is returned for replenishing.  \n",
            "\n",
            "2. **Blood Vessels: Highways for Blood Flow**  \n",
            "   - **Arteries**: These are the \"outbound highways\" carrying oxygenated blood *away* from the heart to organs and tissues.  \n",
            "   - **Veins**: The \"return routes\" that bring deoxygenated blood *back* to the heart (and to the lungs for more oxygen).  \n",
            "   - **Capillaries**: Tiny \"local roads\" where vital exchanges happen—oxygen, nutrients, and hormones delivered to cells; waste (like CO₂) picked up.  \n",
            "\n",
            "3. **Blood: The Multi-Tasking Transport Truck**  \n",
            "   - Blood is the fluid that carries the goods:  \n",
            "     - **Oxygen** (from lungs to cells).  \n",
            "     - **Nutrients** (from digestion to tissues).  \n",
            "     - **Waste removal** (CO₂ to lungs, toxins to kidneys/liver).  \n",
            "     - **Defense & Messengers**: White blood cells (immune response), platelets (clotting), and hormones (communication between organs).  \n",
            "\n",
            "4. **Regulation: Traffic Control**  \n",
            "   - The system adjusts based on demand (e.g., increased heart rate during exercise) to prioritize blood flow to muscles, brains, or other active areas.  \n",
            "\n",
            "**Why It Matters**: Without this coordinated \"delivery service,\" cells would starve, waste would build up, and organs couldn’t communicate—like a city without roads or power!  \n",
            "\n",
            "This analogy should help you visualize how the circulatory system sustains life by constantly circulating resources and maintaining balance. 💉❤️🩸 \n",
            "\n",
            "\n"
          ]
        }
      ],
      "source": [
        "# Output\n",
        "print(response, \"\\n\\n\")"
      ]
    },
    {
      "cell_type": "markdown",
      "metadata": {
        "id": "4TKEF4HEcVla"
      },
      "source": [
        "**Type D: Instruction + Input Data -> Output**"
      ]
    },
    {
      "cell_type": "code",
      "execution_count": null,
      "metadata": {
        "id": "vj8aAt7XcVla"
      },
      "outputs": [],
      "source": [
        "# Input Data: Circulatory system\n",
        "\n",
        "Input_Data = \"\"\"\n",
        "In vertebrates, the circulatory system is a system of organs that includes the heart, blood vessels, and blood which is circulated throughout the body. It includes the cardiovascular system, or vascular system, that consists of the heart and blood vessels (from Greek kardia meaning heart, and Latin vascula meaning vessels). The circulatory system has two divisions, a systemic circulation or circuit, and a pulmonary circulation or circuit. Some sources use the terms cardiovascular system and vascular system interchangeably with circulatory system.\n",
        "The network of blood vessels are the great vessels of the heart including large elastic arteries, and large veins; other arteries, smaller arterioles, capillaries that join with venules (small veins), and other veins. The circulatory system is closed in vertebrates, which means that the blood never leaves the network of blood vessels. Many invertebrates such as arthropods have an open circulatory system with a heart that pumps a hemolymph which returns via the body cavity rather than via blood vessels. Diploblasts such as sponges and comb jellies lack a circulatory system.\n",
        "Blood is a fluid consisting of plasma, red blood cells, white blood cells, and platelets; it is circulated around the body carrying oxygen and nutrients to the tissues and collecting and disposing of waste materials. Circulated nutrients include proteins and minerals and other components include hemoglobin, hormones, and gases such as oxygen and carbon dioxide. These substances provide nourishment, help the immune system to fight diseases, and help maintain homeostasis by stabilizing temperature and natural pH.\n",
        "In vertebrates, the lymphatic system is complementary to the circulatory system. The lymphatic system carries excess plasma (filtered from the circulatory system capillaries as interstitial fluid between cells) away from the body tissues via accessory routes that return excess fluid back to blood circulation as lymph.[1] The lymphatic system is a subsystem that is essential for the functioning of the blood circulatory system; without it the blood would become depleted of fluid.\n",
        "The lymphatic system also works with the immune system. The circulation of lymph takes much longer than that of blood[2] and, unlike the closed (blood) circulatory system, the lymphatic system is an open system. Some sources describe it as a secondary circulatory system.\n",
        "The circulatory system can be affected by many cardiovascular diseases. Cardiologists are medical professionals which specialise in the heart, and cardiothoracic surgeons specialise in operating on the heart and its surrounding areas. Vascular surgeons focus on disorders of the blood vessels, and lymphatic vessels.\n",
        "\"\"\"\n",
        "\n",
        "# Reference: Wikipedia(https://en.wikipedia.org/wiki/Circulatory_system)"
      ]
    },
    {
      "cell_type": "code",
      "execution_count": null,
      "metadata": {
        "id": "9c-aIF5lcVla"
      },
      "outputs": [],
      "source": [
        "# Instruction + Input Data\n",
        "Instruction = \"Write a short summary of the main functions of the circulatory system based on [Input Data] below:\\n\"\n",
        "\n",
        "message = [\n",
        "    {\n",
        "        \"role\": \"user\",\n",
        "        \"content\": Instruction + Input_Data\n",
        "    }\n",
        "]\n",
        "\n",
        "response = get_completion(messages=message)"
      ]
    },
    {
      "cell_type": "code",
      "execution_count": null,
      "metadata": {
        "colab": {
          "base_uri": "https://localhost:8080/"
        },
        "id": "fkXcyq3xcVla",
        "outputId": "dd10af4f-8e55-482d-f480-a883c13ad194"
      },
      "outputs": [
        {
          "output_type": "stream",
          "name": "stdout",
          "text": [
            "The circulatory system in vertebrates is a closed network comprising the **heart, blood vessels, and blood**, responsible for transporting essential substances throughout the body. Its **main functions** include:  \n",
            "\n",
            "1. **Transportation**: Delivering oxygen, nutrients (e.g., glucose, proteins, minerals), hormones, and immune cells to tissues while removing waste products like carbon dioxide.  \n",
            "2. **Gas Exchange**: Facilitating oxygen uptake and carbon dioxide removal via the **pulmonary circulation** (to/from the lungs) and delivering oxygenated blood systemically.  \n",
            "3. **Homeostasis**: Regulating body temperature, pH, and fluid balance by circulating plasma and distributing heat.  \n",
            "4. **Immune Support**: Transporting white blood cells, antibodies, and platelets to combat infections and aid clotting.  \n",
            "\n",
            "The system has two primary circuits:  \n",
            "- **Systemic circulation** supplies oxygenated blood to the body.  \n",
            "- **Pulmonary circulation** oxygenates blood in the lungs.  \n",
            "\n",
            "It works with the **lymphatic system**, which drains excess interstitial fluid (as lymph) back into the bloodstream, supports immunity, and aids in fat absorption. Unlike the blood circulatory system, the lymphatic system is open and slower.  \n",
            "\n",
            "Diseases affecting the circulatory system (e.g., hypertension, atherosclerosis) are treated by specialists like cardiologists, vascular surgeons, and cardiothoracic surgeons. Invertebrates often have open circulatory systems, while simple organisms like sponges lack one entirely.\n"
          ]
        }
      ],
      "source": [
        "# Output\n",
        "print(response)"
      ]
    },
    {
      "cell_type": "markdown",
      "metadata": {
        "id": "DWK27_AHcVla"
      },
      "source": [
        "---"
      ]
    },
    {
      "cell_type": "markdown",
      "metadata": {
        "id": "wWsei_g_cVla"
      },
      "source": [
        "## **3.3 Practice**"
      ]
    },
    {
      "cell_type": "markdown",
      "metadata": {
        "id": "ARSNbwsLcVla"
      },
      "source": [
        "Let's practice!\n",
        "\n",
        "- `Type A`: Instruction -> Output\n",
        "\n",
        "- `Type B`: Instruction + Context -> Output\n",
        "\n",
        "- `Type C`: Instruction + Context + Example -> Output\n",
        "\n",
        "- `Type D`: Instruction + Input Data -> Output"
      ]
    },
    {
      "cell_type": "markdown",
      "metadata": {
        "id": "8fTrawjJcVla"
      },
      "source": [
        "**Type A**:\n",
        "\n",
        "Please write a prompt type A that converts the following word to lowercase.\n",
        "\n",
        "[BRAIN, HEART, FINGER]"
      ]
    },
    {
      "cell_type": "code",
      "execution_count": null,
      "metadata": {
        "id": "sJt4-mHacVla"
      },
      "outputs": [],
      "source": [
        "# Type A\n",
        "message = [\n",
        "    {\n",
        "        \"role\": \"user\",\n",
        "        \"content\": \" \" # ←- Insert your prompt here.\n",
        "    }\n",
        "]\n",
        "\n",
        "response = get_completion(messages=message)\n",
        "print(response, \"\\n\\n\")"
      ]
    },
    {
      "cell_type": "markdown",
      "metadata": {
        "id": "R9lC-HnVcVla"
      },
      "source": [
        "**Type B:**\n",
        "\n",
        "Please write a prompt type B that extracts the three key points from the following article and summarizes them in bullet points."
      ]
    },
    {
      "cell_type": "markdown",
      "metadata": {
        "id": "Lj5epSTccVla"
      },
      "source": [
        "- Article:\n",
        "\n",
        "    > A federal jury ruled Friday that Masimo smartwatches infringed Apple patents, but Apple isn’t getting a big payday.\n",
        "    >\n",
        "    > [Bloomberg Law reports](https://news.bloomberglaw.com/ip-law/apple-wins-250-in-mixed-jury-verdict-over-smartwatch-patents) that the company was only seeking the statutory minimum of $250, and that’s all it was awarded. Apple’s attorney John Desmarais reportedly told jurors, “We’re not here for the money.” Instead, he said the company hoped to force Masimo to “stop copying our design.”\n",
        "    >\n",
        "    > The company may have been disappointed on that front. The jury did [find](https://www.documentcloud.org/documents/25253303-apple-v-masimo-verdict) that the original design for Masimo’s W1 Freedom and health module, as well as its original charger, infringed on Apple design patents, and that the infringement was willful.\n",
        "    >\n",
        "    > However, in a statement, Masimo noted that the findings only applied to “a discontinued module and charger,” not its current products.\n",
        "    >\n",
        "    > “Apple primarily sought an injunction against Masimo’s current products, and the jury’s verdict is a victory for Masimo on that issue,” the medical device company said.\n",
        "    >\n",
        "    > The trial resulted from Apple’s countersuit in its ongoing legal battle with Masimo, which started with the Masimo’s claim that its patents had been infringed by the Apple Watch’s pulse-oximetry feature, which allows Watch owners to measure their blood oxygen levels. Apple disabled the feature in the Apple Watch Series 9 and Ultra 2, and it’s also missing from [the new Series 10](https://techcrunch.com/2024/09/10/apple-watch-blood-oxygen-detection-wont-be-available-on-the-series-10-in-the-u-s/). These limitations only apply in the United States, with Apple is appealing an import ban on models with the contested feature.\n",
        "    >\n",
        "    > Desmerais reportedly told the jury that the pulse-oximetry feature “has nothing to do with this case.”\n",
        "\n",
        "source: https://techcrunch.com/2024/10/26/apple-wins-250-from-masimo-in-watch-patent-trial/"
      ]
    },
    {
      "cell_type": "code",
      "execution_count": null,
      "metadata": {
        "id": "Cr7E0mXecVla"
      },
      "outputs": [],
      "source": [
        "# Type B\n",
        "message = [\n",
        "    {\n",
        "        \"role\": \"user\",\n",
        "        \"content\": \" \" # ←- Insert your prompt here.\n",
        "    }\n",
        "]\n",
        "\n",
        "response = get_completion(messages=message)\n",
        "print(response, \"\\n\\n\")"
      ]
    },
    {
      "cell_type": "markdown",
      "metadata": {
        "id": "lTzSObIAcVla"
      },
      "source": [
        "**Type C**:\n",
        "\n",
        "Please provide a type C prompt to define \"Plastic surgery\" in a dictionary-like manner. Include an example for clarity."
      ]
    },
    {
      "cell_type": "code",
      "execution_count": null,
      "metadata": {
        "id": "WOGKJYoFcVla"
      },
      "outputs": [],
      "source": [
        "# Type C\n",
        "message = [\n",
        "    {\n",
        "        \"role\": \"user\",\n",
        "        \"content\": \" \" # ←- Insert your prompt here.\n",
        "    }\n",
        "]\n",
        "\n",
        "response = get_completion(messages=message)\n",
        "print(response, \"\\n\\n\")"
      ]
    },
    {
      "cell_type": "markdown",
      "metadata": {
        "id": "Dq2OGv5acVlb"
      },
      "source": [
        "**Type D**:\n",
        "\n",
        "Create a type D prompt that provides a detailed explanation of `GLP-1 agonist` using Wikipedia."
      ]
    },
    {
      "cell_type": "code",
      "execution_count": null,
      "metadata": {
        "id": "Z8Iv1ynJcVlb"
      },
      "outputs": [],
      "source": [
        "Input_data = \"\" # ←- Insert the information you find."
      ]
    },
    {
      "cell_type": "code",
      "execution_count": null,
      "metadata": {
        "id": "7P_YA-6gcVlb"
      },
      "outputs": [],
      "source": [
        "# Type D\n",
        "message = [\n",
        "    {\n",
        "        \"role\": \"user\",\n",
        "        \"content\": \" \" # ←- Insert your prompt here.\n",
        "    }\n",
        "]\n",
        "\n",
        "response = get_completion(messages=message)\n",
        "print(response, '\\n\\n')"
      ]
    },
    {
      "cell_type": "markdown",
      "metadata": {
        "id": "U58CtQfxcVlb"
      },
      "source": [
        "*Next: [Chapter 4. Examples and Few-Shot Prompting](./04_Chapter%204.%20Examples%20and%20Few-Shot%20Prompting.ipynb)*"
      ]
    }
  ],
  "metadata": {
    "kernelspec": {
      "display_name": "base",
      "language": "python",
      "name": "python3"
    },
    "language_info": {
      "codemirror_mode": {
        "name": "ipython",
        "version": 3
      },
      "file_extension": ".py",
      "mimetype": "text/x-python",
      "name": "python",
      "nbconvert_exporter": "python",
      "pygments_lexer": "ipython3",
      "version": "3.12.4"
    },
    "colab": {
      "provenance": [],
      "include_colab_link": true
    }
  },
  "nbformat": 4,
  "nbformat_minor": 0
}